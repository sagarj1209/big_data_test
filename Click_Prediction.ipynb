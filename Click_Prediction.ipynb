{
  "cells": [
    {
      "cell_type": "markdown",
      "id": "opening-satisfaction",
      "metadata": {
        "id": "opening-satisfaction"
      },
      "source": [
        "---\n",
        "---\n",
        "\n",
        "\n",
        "<center><h1> Spark ML - Click Prediction </h1></center>\n",
        "\n",
        "----\n",
        "\n",
        "An Advertising company delivers more than 3 Billion clicks per month to its advertisers delivering 4.5 Million monthly sales events.\n",
        "\n",
        "It buys space on the Publishers site and then shows an advertisement about the Advertiser at that space. The advertiser pays the network for every conversion from the clicks. The network in turns pays to the publisher after keeping it's commission. The company wants to leverage the machine learning to improve the conversions for its customers.\n",
        "\n",
        "So, in this notebook we will build a classification model to predict whether a particular advertisement will be clicked or not.\n",
        "\n",
        "----\n",
        "\n",
        "So for this notebook, we have divided the dataset into 3 different parts:\n",
        "   * **`TRAIN`** - It has 1400000 Rows which will be used to train the model.\n",
        "   * **`VALIDATION`** - It has 350000 Rows which will be used to evaluate the model.\n",
        "   * **`TEST`** - It has 350000 Rows on which we will test our final model.\n",
        "\n",
        "\n",
        "\n",
        "---\n",
        "\n",
        "#### `IMPORTING THE REQUIRED LIBRARIES`\n",
        "\n",
        "---"
      ]
    },
    {
      "cell_type": "code",
      "execution_count": null,
      "id": "hQXxe8YzmGlc",
      "metadata": {
        "colab": {
          "base_uri": "https://localhost:8080/"
        },
        "id": "hQXxe8YzmGlc",
        "outputId": "3897382e-8932-41e7-d6bb-c66e8eb58c4b"
      },
      "outputs": [
        {
          "name": "stdout",
          "output_type": "stream",
          "text": [
            "Mounted at /content/drive\n"
          ]
        }
      ],
      "source": [
        "#Mount the drive\n",
        "from google.colab import drive\n",
        "drive.mount('/content/drive')\n"
      ]
    },
    {
      "cell_type": "code",
      "execution_count": null,
      "id": "hearing-decimal",
      "metadata": {
        "colab": {
          "base_uri": "https://localhost:8080/"
        },
        "id": "hearing-decimal",
        "outputId": "fcd09d6d-f742-4501-8a5f-b6abff490fae"
      },
      "outputs": [
        {
          "name": "stdout",
          "output_type": "stream",
          "text": [
            "Requirement already satisfied: matplotlib in /usr/local/lib/python3.11/dist-packages (3.10.0)\n",
            "Requirement already satisfied: contourpy>=1.0.1 in /usr/local/lib/python3.11/dist-packages (from matplotlib) (1.3.1)\n",
            "Requirement already satisfied: cycler>=0.10 in /usr/local/lib/python3.11/dist-packages (from matplotlib) (0.12.1)\n",
            "Requirement already satisfied: fonttools>=4.22.0 in /usr/local/lib/python3.11/dist-packages (from matplotlib) (4.56.0)\n",
            "Requirement already satisfied: kiwisolver>=1.3.1 in /usr/local/lib/python3.11/dist-packages (from matplotlib) (1.4.8)\n",
            "Requirement already satisfied: numpy>=1.23 in /usr/local/lib/python3.11/dist-packages (from matplotlib) (1.26.4)\n",
            "Requirement already satisfied: packaging>=20.0 in /usr/local/lib/python3.11/dist-packages (from matplotlib) (24.2)\n",
            "Requirement already satisfied: pillow>=8 in /usr/local/lib/python3.11/dist-packages (from matplotlib) (11.1.0)\n",
            "Requirement already satisfied: pyparsing>=2.3.1 in /usr/local/lib/python3.11/dist-packages (from matplotlib) (3.2.1)\n",
            "Requirement already satisfied: python-dateutil>=2.7 in /usr/local/lib/python3.11/dist-packages (from matplotlib) (2.8.2)\n",
            "Requirement already satisfied: six>=1.5 in /usr/local/lib/python3.11/dist-packages (from python-dateutil>=2.7->matplotlib) (1.17.0)\n"
          ]
        }
      ],
      "source": [
        "# # uncomment and run the following command to install the matplotlib\n",
        "#!pip3 install matplotlib --user"
      ]
    },
    {
      "cell_type": "code",
      "execution_count": null,
      "id": "black-desktop",
      "metadata": {
        "id": "black-desktop"
      },
      "outputs": [],
      "source": [
        "# importing the required libraries\n",
        "from pyspark.sql import SparkSession\n",
        "import pyspark.sql.types as tp\n",
        "from pyspark.sql import functions as F # a collection of built-in functions (like col, lit, when, etc.) for manipulating DataFrames.\n",
        "\n",
        "# libraries to make plots\n",
        "import matplotlib.pyplot as plt\n",
        "%matplotlib inline"
      ]
    },
    {
      "cell_type": "markdown",
      "id": "binary-athens",
      "metadata": {
        "id": "binary-athens"
      },
      "source": [
        "#### `Create Spark Session`\n",
        "\n",
        "---"
      ]
    },
    {
      "cell_type": "code",
      "execution_count": null,
      "id": "logical-profit",
      "metadata": {
        "id": "logical-profit"
      },
      "outputs": [],
      "source": [
        "# create spark session\n",
        "spark = SparkSession.builder.getOrCreate()"
      ]
    },
    {
      "cell_type": "markdown",
      "id": "graphic-growth",
      "metadata": {
        "id": "graphic-growth"
      },
      "source": [
        "---\n",
        "\n",
        "#### `READING THE DATASET`\n",
        "\n",
        "---\n",
        "\n",
        "Now, first of all, we will read all the datasets and each of the datasets the following columns\n",
        "\n",
        " * **`ID`**:   Unique ID of the Click\n",
        " * **`Country`**:   Country Code\n",
        " * **`Carrier`**:   Wireless Network Operator Code\n",
        " * **`TrafficType`**:  Whether the advertisement is for Adults or mainstream.\n",
        " * **`ClickDate`**:  Date at which the advertisement was clicked\n",
        " * **`Device`**:  Type of Device from which advertisement was clicked\n",
        " * **`Browser`**:  Type of Browser from which advertisement was clicked\n",
        " * **`OS`**:  Type of OS from which advertisement was clicked\n",
        " * **`publisherID`**:  Unique ID of publisher\n",
        " * **`advertiserCampaignId`**: Unique ID of campaign of advertisement\n",
        " * **`Fraud`**:  If the click was fraud or not\n",
        " * **`ConversionStatus`**:  If the click was fraud or not  ( **`Target Variable`** )\n",
        "\n",
        "---"
      ]
    },
    {
      "cell_type": "markdown",
      "id": "foreign-texture",
      "metadata": {
        "id": "foreign-texture"
      },
      "source": [
        "---\n",
        "\n",
        "The data looks something like this:\n",
        "\n",
        "---\n",
        "\n",
        "\n",
        "![](images/sample_data.png)\n",
        "\n",
        "---"
      ]
    },
    {
      "cell_type": "code",
      "execution_count": null,
      "id": "twenty-timothy",
      "metadata": {
        "id": "twenty-timothy"
      },
      "outputs": [],
      "source": [
        "# reading the train data\n",
        "train_data = spark.read.csv(\"/content/drive/MyDrive/Advance Programming in Spark/Spark_ML_Project/dataset/train.csv\",inferSchema=True, header=True)\n",
        "\n",
        "# reading the validation data\n",
        "valid_data = spark.read.csv(\"/content/drive/MyDrive/Advance Programming in Spark/Spark_ML_Project/dataset/valid.csv\",inferSchema=True, header=True)\n",
        "\n",
        "# reading the test data\n",
        "test_data  = spark.read.csv(\"/content/drive/MyDrive/Advance Programming in Spark/Spark_ML_Project/dataset/test.csv\", inferSchema=True, header=True)"
      ]
    },
    {
      "cell_type": "code",
      "execution_count": null,
      "id": "wl0VelTAnKPS",
      "metadata": {
        "colab": {
          "base_uri": "https://localhost:8080/"
        },
        "id": "wl0VelTAnKPS",
        "outputId": "edc28345-6c96-4d5b-a2b0-f87d0eac7acb"
      },
      "outputs": [
        {
          "name": "stdout",
          "output_type": "stream",
          "text": [
            "+-------+-------+-------+-----------+-------------------+-------+--------------+-------+----------------+-----------+--------------------+-----+\n",
            "|     ID|Country|Carrier|TrafficType|          ClickDate| Device|       Browser|     OS|ConversionStatus|publisherId|advertiserCampaignId|Fraud|\n",
            "+-------+-------+-------+-----------+-------------------+-------+--------------+-------+----------------+-----------+--------------------+-----+\n",
            "|1423458|     TH|   25.0|          A|2017-08-21 05:51:32| Lenovo|        chrome|Android|           false|         55|              7510.0|  0.0|\n",
            "|1914546|     IN|    1.0|       NULL|2017-08-21 12:52:03| Lenovo|        chrome|Android|           false|       1433|              7820.0|  0.0|\n",
            "|1654074|     BO|  975.0|          A|2017-08-21 12:04:10|Samsung|        chrome|Android|           false|       1059|              4384.0|  0.0|\n",
            "|1875920|     MY|   18.0|          A|2017-08-21 12:44:47|Generic|android_webkit|Android|           false|        657|             11830.0|  0.0|\n",
            "|1363276|     ID|   47.0|          M|2017-08-21 05:36:47|Generic|  46.0.2490.76|Android|           false|       1306|              2118.0|  0.0|\n",
            "+-------+-------+-------+-----------+-------------------+-------+--------------+-------+----------------+-----------+--------------------+-----+\n",
            "only showing top 5 rows\n",
            "\n"
          ]
        }
      ],
      "source": [
        "train_data.show(5)"
      ]
    },
    {
      "cell_type": "code",
      "execution_count": null,
      "id": "lHM7vlVRpcN8",
      "metadata": {
        "colab": {
          "base_uri": "https://localhost:8080/"
        },
        "id": "lHM7vlVRpcN8",
        "outputId": "8a2413d8-1fe3-4049-ee8a-b9cbe7e333ec"
      },
      "outputs": [
        {
          "name": "stdout",
          "output_type": "stream",
          "text": [
            "Number of rows: 1400000\n",
            "Number of columns: 12\n"
          ]
        }
      ],
      "source": [
        "# Number of rows\n",
        "num_rows = train_data.count()\n",
        "\n",
        "# Number of columns\n",
        "num_cols = len(train_data.columns)\n",
        "\n",
        "# Print the results\n",
        "print(f\"Number of rows: {num_rows}\")\n",
        "print(f\"Number of columns: {num_cols}\")\n"
      ]
    },
    {
      "cell_type": "markdown",
      "id": "gorgeous-species",
      "metadata": {
        "id": "gorgeous-species"
      },
      "source": [
        "---\n",
        "\n",
        "# `DATA EXPLORATION`\n",
        "\n",
        "Now, that we have read the data, the first step is to explore the data. We will try to find out the following things from the data.\n",
        "\n",
        "---\n",
        "**`1. Variable Identification`**\n",
        "\n",
        "- Data Type of the columns\n",
        "\n",
        "**`2. Univariate Analysis`**\n",
        "- Explore the Target Variable ( `ConversionStatus` )\n",
        "- Check for the Null Values in each column\n",
        "- Check for the Distinct Values in each column\n",
        "- Frequency of each category for the following columns\n",
        "    - Country\n",
        "    - Browser\n",
        "    - Device\n",
        "    - OS\n",
        "\n",
        "**`3. Bivariate Analysis`**\n",
        "\n",
        "- Number of Clicks for each category of Country\n",
        "- Number of Clicks for each catefory of Browser\n",
        "- Number of Clicks for each catefory of Device\n",
        "- Number of Clicks for each catefory of OS\n",
        "\n",
        "---"
      ]
    },
    {
      "cell_type": "markdown",
      "id": "prostate-monte",
      "metadata": {
        "id": "prostate-monte"
      },
      "source": [
        "##  `VARIABLE INDENTIFICATION`\n",
        "\n",
        "#### `Data Type of the Columns`\n",
        "\n",
        "---"
      ]
    },
    {
      "cell_type": "code",
      "execution_count": null,
      "id": "experimental-wheat",
      "metadata": {
        "colab": {
          "base_uri": "https://localhost:8080/"
        },
        "id": "experimental-wheat",
        "outputId": "a2ccec99-95c6-47a8-fa79-8aa377e65800"
      },
      "outputs": [
        {
          "name": "stdout",
          "output_type": "stream",
          "text": [
            "root\n",
            " |-- ID: integer (nullable = true)\n",
            " |-- Country: string (nullable = true)\n",
            " |-- Carrier: double (nullable = true)\n",
            " |-- TrafficType: string (nullable = true)\n",
            " |-- ClickDate: timestamp (nullable = true)\n",
            " |-- Device: string (nullable = true)\n",
            " |-- Browser: string (nullable = true)\n",
            " |-- OS: string (nullable = true)\n",
            " |-- ConversionStatus: boolean (nullable = true)\n",
            " |-- publisherId: string (nullable = true)\n",
            " |-- advertiserCampaignId: double (nullable = true)\n",
            " |-- Fraud: double (nullable = true)\n",
            "\n"
          ]
        }
      ],
      "source": [
        "# data type of the columns\n",
        "train_data.printSchema()"
      ]
    },
    {
      "cell_type": "markdown",
      "id": "noble-summit",
      "metadata": {
        "id": "noble-summit"
      },
      "source": [
        "---\n",
        "\n",
        "**`Numerical`**\n",
        "- ID\n",
        "- Carrier (It is numerical in nature but it is `network code`, so we will treat it as `categorical variable`)\n",
        "- Fraud\n",
        "- advertiserCampaignId (It is numerical in nature but still values are code representing different campaigns, so we will treat it as `categorical variable`)\n",
        "\n",
        "**`Categorical`**\n",
        "- Country\n",
        "- TrafficType\n",
        "- Device\n",
        "- Browser\n",
        "- OS\n",
        "- publisherId\n",
        "\n",
        "\n",
        "**`Time-Based`**\n",
        "- ClickDate\n",
        "\n",
        "**`Boolean`**\n",
        "- ConversionStatus (We will have to type cast it into the integer type to do some aggregation operations on it for the data exploration purposes.)\n",
        "\n",
        "\n",
        "---"
      ]
    },
    {
      "cell_type": "markdown",
      "id": "conscious-massachusetts",
      "metadata": {
        "id": "conscious-massachusetts"
      },
      "source": [
        "## `UNIVARIATE ANALYSIS`\n",
        "\n",
        "---"
      ]
    },
    {
      "cell_type": "markdown",
      "id": "heavy-millennium",
      "metadata": {
        "id": "heavy-millennium"
      },
      "source": [
        "#### `Exploring the Target Variable`\n",
        "\n",
        "---\n",
        "\n",
        "The `Target Variable` for our use-case is `ConversionStatus` and this column has `boolean` data type. Let's find out how much the data is imbalance, i.e. what percentage of data points has the target variable `true` and `false`?\n",
        "\n",
        "---"
      ]
    },
    {
      "cell_type": "code",
      "execution_count": null,
      "id": "IcLiarmUoEX4",
      "metadata": {
        "id": "IcLiarmUoEX4"
      },
      "outputs": [],
      "source": [
        "  # Group the data by the values in the \"ConversionStatus\" column.\n",
        "  # For each group, do the following calculations:\n",
        "       # 1. Count how many rows are in each group (how many times each ConversionStatus appears).\n",
        "       # 2. Calculate the percentage of each group out of the total rows in train_data.\n",
        "\n"
      ]
    },
    {
      "cell_type": "code",
      "execution_count": null,
      "id": "governing-arena",
      "metadata": {
        "colab": {
          "base_uri": "https://localhost:8080/"
        },
        "id": "governing-arena",
        "outputId": "764ecdc9-1c9f-4293-aedc-52b50038e2f2",
        "scrolled": true
      },
      "outputs": [
        {
          "name": "stdout",
          "output_type": "stream",
          "text": [
            "+----------------+-----------------------+-------------------------------------------+\n",
            "|ConversionStatus|count(ConversionStatus)|((count(ConversionStatus) / 1400000) * 100)|\n",
            "+----------------+-----------------------+-------------------------------------------+\n",
            "|            true|                    874|                       0.062428571428571424|\n",
            "|           false|                1399126|                          99.93757142857143|\n",
            "+----------------+-----------------------+-------------------------------------------+\n",
            "\n"
          ]
        }
      ],
      "source": [
        "# number of data points in each category and their percentage\n",
        "target_variable = train_data.groupBy(\"ConversionStatus\").agg(F.count(\"ConversionStatus\"),\n",
        "                                                            (F.count(\"ConversionStatus\")/train_data.count())*100)\n",
        "target_variable.show()"
      ]
    },
    {
      "cell_type": "markdown",
      "id": "figured-income",
      "metadata": {
        "id": "figured-income"
      },
      "source": [
        "Let's change these columns names to simpler ones using the `alias` function and also round of the percentage upto 4 decimal places.\n",
        "\n",
        "---"
      ]
    },
    {
      "cell_type": "code",
      "execution_count": null,
      "id": "thermal-stephen",
      "metadata": {
        "colab": {
          "base_uri": "https://localhost:8080/"
        },
        "id": "thermal-stephen",
        "outputId": "407d05f7-b952-4e6a-dcaa-19c077ed1502"
      },
      "outputs": [
        {
          "name": "stdout",
          "output_type": "stream",
          "text": [
            "+----------------+-------+----------+\n",
            "|ConversionStatus|  count|percentage|\n",
            "+----------------+-------+----------+\n",
            "|            true|    874|    0.0624|\n",
            "|           false|1399126|   99.9376|\n",
            "+----------------+-------+----------+\n",
            "\n"
          ]
        }
      ],
      "source": [
        "# number of data points in each category and their percentage upto 4 decimal points\n",
        "target_variable = train_data.groupBy(\"ConversionStatus\").agg(F.count(\"ConversionStatus\").alias(\"count\"),\n",
        "                                           F.round((F.count(\"ConversionStatus\")/train_data.count())*100, 4).alias(\"percentage\"))\n",
        "\n",
        "target_variable.show()"
      ]
    },
    {
      "cell_type": "markdown",
      "id": "9HgULDIFo-XI",
      "metadata": {
        "id": "9HgULDIFo-XI"
      },
      "source": [
        "### Percentage Interpretation\n",
        "\n",
        "The percentage of each group out of the total data:\n",
        "\n",
        "- **true**: Only **0.0624%** of the users converted.  \n",
        "- **false**: A massive **99.9376%** of users did not convert.\n",
        "\n",
        "---\n",
        "\n",
        "### What insights can you draw from this?\n",
        "\n",
        "- The **conversion rate is extremely low!**\n",
        "- Out of roughly **1.4 million** users, only **874** converted.\n"
      ]
    },
    {
      "cell_type": "markdown",
      "id": "acquired-bulgarian",
      "metadata": {
        "id": "acquired-bulgarian"
      },
      "source": [
        "---\n",
        "\n",
        "The data type of the target variable is `Boolean` in nature and we won't be able to use it in this format for further exploration So, let's first, we will change data type of the target variable `ConversionStatus` from `Boolean` to `Integer`.\n",
        "\n",
        "---"
      ]
    },
    {
      "cell_type": "code",
      "execution_count": null,
      "id": "seasonal-practice",
      "metadata": {
        "id": "seasonal-practice"
      },
      "outputs": [],
      "source": [
        "# type cast the target variable\n",
        "train_data = train_data.withColumn(\"ConversionStatus\", F.col(\"ConversionStatus\").cast(tp.IntegerType()))"
      ]
    },
    {
      "cell_type": "code",
      "execution_count": null,
      "id": "stunning-parliament",
      "metadata": {
        "id": "stunning-parliament"
      },
      "outputs": [],
      "source": [
        "# type cast the target variable of test and validation data\n",
        "valid_data = valid_data.withColumn(\"ConversionStatus\", F.col(\"ConversionStatus\").cast(tp.IntegerType()))\n",
        "test_data = test_data.withColumn(\"ConversionStatus\", F.col(\"ConversionStatus\").cast(tp.IntegerType()))"
      ]
    },
    {
      "cell_type": "markdown",
      "id": "registered-authority",
      "metadata": {
        "id": "registered-authority"
      },
      "source": [
        "----\n",
        "\n",
        "#### `CHECK FOR THE NULL VALUES IN EACH COLUMN`\n",
        "\n",
        "---"
      ]
    },
    {
      "cell_type": "code",
      "execution_count": null,
      "id": "quarterly-wyoming",
      "metadata": {
        "colab": {
          "base_uri": "https://localhost:8080/"
        },
        "id": "quarterly-wyoming",
        "outputId": "4652bace-aace-4c3b-abe5-28d1d9f70e95"
      },
      "outputs": [
        {
          "name": "stdout",
          "output_type": "stream",
          "text": [
            "ID 0\n",
            "Country 7514\n",
            "Carrier 0\n",
            "TrafficType 200726\n",
            "ClickDate 0\n",
            "Device 1836\n",
            "Browser 5065\n",
            "OS 4776\n",
            "ConversionStatus 0\n",
            "publisherId 0\n",
            "advertiserCampaignId 5\n",
            "Fraud 0\n"
          ]
        }
      ],
      "source": [
        "### null values in each column\n",
        "for c in train_data.columns:\n",
        "    # define the condition\n",
        "    missing_values = F.isnull(c)\n",
        "\n",
        "    # filter the data with condition and count the number of data points\n",
        "    missing_values = train_data.filter(missing_values).count()\n",
        "\n",
        "    # print the result\n",
        "    print(c, missing_values)"
      ]
    },
    {
      "cell_type": "markdown",
      "id": "acceptable-explorer",
      "metadata": {
        "id": "acceptable-explorer"
      },
      "source": [
        "---\n",
        "\n",
        "So, we have null values in most of the columns:\n",
        "\n",
        " * **`ID`**:   0\n",
        " * **`Country`**:   7514\n",
        " * **`Carrier`**:   0\n",
        " * **`TrafficType`**:  200726\n",
        " * **`ClickDate`**:  0\n",
        " * **`Device`**:  1836\n",
        " * **`Browser`**:  5065\n",
        " * **`OS`**:  4776\n",
        " * **`publisherID`**:  0\n",
        " * **`advertiserCampaignId`**: 5\n",
        " * **`Fraud`**:  0\n",
        " * **`ConversionStatus`**:  0\n",
        "\n",
        "\n",
        "---"
      ]
    },
    {
      "cell_type": "markdown",
      "id": "nasty-train",
      "metadata": {
        "id": "nasty-train"
      },
      "source": [
        "---\n",
        "\n",
        "#### `Distinct Values in Each Column`\n",
        "\n",
        "---\n",
        "\n",
        "Next, we will find out the number of distinct values in each of the column.\n",
        "\n",
        "---"
      ]
    },
    {
      "cell_type": "code",
      "execution_count": null,
      "id": "structural-concrete",
      "metadata": {
        "colab": {
          "base_uri": "https://localhost:8080/"
        },
        "id": "structural-concrete",
        "outputId": "cfab791d-8408-4828-b0dd-79be56e7afab"
      },
      "outputs": [
        {
          "name": "stdout",
          "output_type": "stream",
          "text": [
            "+-------+-------+-------+-----------+---------+------+-------+---+----------------+-----------+--------------------+-----+\n",
            "|     ID|Country|Carrier|TrafficType|ClickDate|Device|Browser| OS|ConversionStatus|publisherId|advertiserCampaignId|Fraud|\n",
            "+-------+-------+-------+-----------+---------+------+-------+---+----------------+-----------+--------------------+-----+\n",
            "|1400000|    196|    291|          2|    28253|   764|     30| 15|               2|       2052|                 500|    2|\n",
            "+-------+-------+-------+-----------+---------+------+-------+---+----------------+-----------+--------------------+-----+\n",
            "\n"
          ]
        }
      ],
      "source": [
        "# distinct values in each column\n",
        "train_data.agg(*(F.countDistinct(F.col(c)).alias(c) for c in train_data.columns)).show()"
      ]
    },
    {
      "cell_type": "markdown",
      "id": "piano-terrace",
      "metadata": {
        "id": "piano-terrace"
      },
      "source": [
        "---\n",
        "\n",
        " - There are 1400000 unique values in the `ID` column i.e unique for each row. So it won't add any value to our ML model, therefore we will not include it, when we will train our model.\n",
        " - There are 196 different countries. 764 different devices in the data.\n",
        " - There are so many unique values in `ClickDate` column, it is because the data is collected every few seconds.\n",
        " - There are 500 different campaigns and over 2000 different publishers.\n",
        "\n",
        "\n",
        "---"
      ]
    },
    {
      "cell_type": "markdown",
      "id": "dominican-sacramento",
      "metadata": {
        "id": "dominican-sacramento"
      },
      "source": [
        "\n",
        "\n",
        "\n"
      ]
    },
    {
      "cell_type": "markdown",
      "id": "fixed-registration",
      "metadata": {
        "id": "fixed-registration"
      },
      "source": [
        "---\n",
        "\n",
        "\n",
        "\n",
        "#### `Column - Country`\n",
        "\n",
        "Next, we will explore the Country column. We have already seen that the dataset has 196 unique countries. Let's check the number of datapoints with each country code using the groupBy function.\n",
        "\n",
        "---"
      ]
    },
    {
      "cell_type": "code",
      "execution_count": null,
      "id": "harmful-reserve",
      "metadata": {
        "colab": {
          "base_uri": "https://localhost:8080/"
        },
        "id": "harmful-reserve",
        "outputId": "e58fccdb-af48-42d3-850c-5911cbc868fe"
      },
      "outputs": [
        {
          "name": "stdout",
          "output_type": "stream",
          "text": [
            "+-------+-------------+\n",
            "|Country|country_count|\n",
            "+-------+-------------+\n",
            "|     DZ|        13232|\n",
            "|     MM|         4666|\n",
            "|     LT|           41|\n",
            "|     CI|          277|\n",
            "|     TC|            1|\n",
            "|     AZ|          230|\n",
            "|     FI|           21|\n",
            "|     UA|          219|\n",
            "|     RO|          200|\n",
            "|     ZM|          494|\n",
            "+-------+-------------+\n",
            "only showing top 10 rows\n",
            "\n"
          ]
        }
      ],
      "source": [
        "# number of datapoints with each country\n",
        "top_countries = train_data.groupBy(\"Country\").agg(F.count(\"Country\").alias(\"country_count\"))\n",
        "top_countries.show(10)"
      ]
    },
    {
      "cell_type": "markdown",
      "id": "complex-floating",
      "metadata": {
        "id": "complex-floating"
      },
      "source": [
        "---\n",
        "\n",
        "View the Top 25 countries in the data using the orderBy.\n",
        "\n",
        "---"
      ]
    },
    {
      "cell_type": "code",
      "execution_count": null,
      "id": "genetic-genesis",
      "metadata": {
        "colab": {
          "base_uri": "https://localhost:8080/"
        },
        "id": "genetic-genesis",
        "outputId": "9e06c32e-8640-48a2-f8eb-895f2c9eb456",
        "scrolled": true
      },
      "outputs": [
        {
          "name": "stdout",
          "output_type": "stream",
          "text": [
            "+-------+-------------+\n",
            "|Country|country_count|\n",
            "+-------+-------------+\n",
            "|     IN|       391465|\n",
            "|     TH|       230027|\n",
            "|     ID|       119701|\n",
            "|     BD|       106342|\n",
            "|     MX|        58908|\n",
            "|     BR|        57664|\n",
            "|     RU|        41288|\n",
            "|     NG|        36244|\n",
            "|     MY|        29340|\n",
            "|     US|        26339|\n",
            "|     BO|        21602|\n",
            "|     PH|        19815|\n",
            "|     ZA|        15835|\n",
            "|     VE|        15405|\n",
            "|     GT|        13781|\n",
            "|     DZ|        13232|\n",
            "|     KR|        12906|\n",
            "|     CO|        12877|\n",
            "|     IQ|        12581|\n",
            "|     AE|        10512|\n",
            "|     ES|         8785|\n",
            "|     IR|         8588|\n",
            "|     UK|         7824|\n",
            "|     IT|         7289|\n",
            "|     PE|         6531|\n",
            "+-------+-------------+\n",
            "only showing top 25 rows\n",
            "\n"
          ]
        }
      ],
      "source": [
        "# Top 25 countries in the dataset\n",
        "top_countries.orderBy(\"country_count\",ascending=False).show(25)"
      ]
    },
    {
      "cell_type": "markdown",
      "id": "current-venture",
      "metadata": {
        "id": "current-venture"
      },
      "source": [
        "---\n",
        "\n",
        "Now, we have 196 different countries in the dataset but most of the data points belong to the 20 countries. They have atleast 10,000 rows. So, in the dataset, we will keep only top 25 countries and map rest of them as `Others`.\n",
        "\n",
        "---\n",
        "\n",
        "To do the mapping, let's define a function.\n",
        "\n",
        "---"
      ]
    },
    {
      "cell_type": "code",
      "execution_count": null,
      "id": "suspended-sampling",
      "metadata": {
        "colab": {
          "base_uri": "https://localhost:8080/"
        },
        "id": "suspended-sampling",
        "outputId": "0721c6e3-1036-46fc-aa67-a986fc406e1d"
      },
      "outputs": [
        {
          "name": "stdout",
          "output_type": "stream",
          "text": [
            "['IN', 'TH', 'ID', 'BD', 'MX', 'BR', 'RU', 'NG', 'MY', 'US', 'BO', 'PH', 'ZA', 'VE', 'GT', 'DZ', 'KR', 'CO', 'IQ', 'AE']\n"
          ]
        }
      ],
      "source": [
        "# create list of top 20 countries, you can change the parameter in the limit function to choose any other number of countries\n",
        "top_20_countries = (top_countries.orderBy(\"country_count\",ascending=False).limit(20).select(\"Country\").collect())\n",
        "top_20_countries = [ row.Country for row in top_20_countries]\n",
        "print(top_20_countries)\n",
        "\n"
      ]
    },
    {
      "cell_type": "markdown",
      "id": "final-deputy",
      "metadata": {
        "id": "final-deputy"
      },
      "source": [
        "----\n",
        "\n",
        "Convert the function to the `UDF` function with return type as `String`.\n",
        "\n",
        "----"
      ]
    },
    {
      "cell_type": "code",
      "execution_count": null,
      "id": "6HbU03UgqlME",
      "metadata": {
        "id": "6HbU03UgqlME"
      },
      "outputs": [],
      "source": [
        "# define function to map countries\n",
        "def map_countries(x):\n",
        "    if x not in top_20_countries:\n",
        "        return \"Others\"\n",
        "    else:\n",
        "        return x"
      ]
    },
    {
      "cell_type": "code",
      "execution_count": null,
      "id": "earned-equipment",
      "metadata": {
        "id": "earned-equipment"
      },
      "outputs": [],
      "source": [
        "# convert to udf function\n",
        "map_countries_udf = F.udf(f= map_countries, returnType= tp.StringType())"
      ]
    },
    {
      "cell_type": "markdown",
      "id": "chemical-affiliate",
      "metadata": {
        "id": "chemical-affiliate"
      },
      "source": [
        "---\n",
        "\n",
        "Use the function `withColumn` & `map_countries_udf` to map the countries in the original data.\n",
        "\n",
        "---"
      ]
    },
    {
      "cell_type": "code",
      "execution_count": null,
      "id": "smaller-pleasure",
      "metadata": {
        "id": "smaller-pleasure"
      },
      "outputs": [],
      "source": [
        "# map the countries\n",
        "train_data = train_data.withColumn(\"country_modified\", map_countries_udf(train_data[\"Country\"]))"
      ]
    },
    {
      "cell_type": "markdown",
      "id": "amended-enclosure",
      "metadata": {
        "id": "amended-enclosure"
      },
      "source": [
        "----\n",
        "\n",
        "Now, we have reduced the number of distinct countries from `196` to `21`. Let's check the number of data points with each of the country we have now.\n",
        "\n",
        "----"
      ]
    },
    {
      "cell_type": "code",
      "execution_count": null,
      "id": "typical-shanghai",
      "metadata": {
        "colab": {
          "base_uri": "https://localhost:8080/"
        },
        "id": "typical-shanghai",
        "outputId": "1986a878-68eb-453b-bab8-1bb9dc0c8eb2"
      },
      "outputs": [
        {
          "name": "stdout",
          "output_type": "stream",
          "text": [
            "+----------------+-----------------------+\n",
            "|country_modified|count(country_modified)|\n",
            "+----------------+-----------------------+\n",
            "|              DZ|                  13232|\n",
            "|              MX|                  58908|\n",
            "|              RU|                  41288|\n",
            "|              IQ|                  12581|\n",
            "|              BD|                 106342|\n",
            "|              ID|                 119701|\n",
            "|              BR|                  57664|\n",
            "|              GT|                  13781|\n",
            "|              VE|                  15405|\n",
            "|              ZA|                  15835|\n",
            "|              KR|                  12906|\n",
            "|              US|                  26339|\n",
            "|              MY|                  29340|\n",
            "|              IN|                 391465|\n",
            "|              AE|                  10512|\n",
            "|              PH|                  19815|\n",
            "|          Others|                 154136|\n",
            "|              TH|                 230027|\n",
            "|              BO|                  21602|\n",
            "|              CO|                  12877|\n",
            "+----------------+-----------------------+\n",
            "only showing top 20 rows\n",
            "\n"
          ]
        }
      ],
      "source": [
        "# number of data points with each country category\n",
        "top_20_countries = train_data.groupBy(\"country_modified\").agg(F.count(\"country_modified\"))\n",
        "top_20_countries.show()"
      ]
    },
    {
      "cell_type": "code",
      "execution_count": null,
      "id": "weird-defensive",
      "metadata": {
        "colab": {
          "base_uri": "https://localhost:8080/",
          "height": 462
        },
        "id": "weird-defensive",
        "outputId": "2edf4150-c7e4-4b90-98d7-d47bfdef8d18"
      },
      "outputs": [
        {
          "data": {
            "image/png": "[encoded data removed]",
            "text/plain": [
              "<Figure size 1500x500 with 1 Axes>"
            ]
          },
          "metadata": {},
          "output_type": "display_data"
        }
      ],
      "source": [
        "# bar plot of top countries\n",
        "top_20_countries_df = top_20_countries.toPandas()\n",
        "plt.figure(figsize=(15,5))\n",
        "plt.xticks(rotation=45)\n",
        "plt.title(\"Country-Wise Ads Distribution\")\n",
        "plt.bar(top_20_countries_df[\"country_modified\"], top_20_countries_df[\"count(country_modified)\"],color='fuchsia');"
      ]
    },
    {
      "cell_type": "markdown",
      "id": "central-economics",
      "metadata": {
        "id": "central-economics"
      },
      "source": [
        "----\n",
        "\n",
        "\n",
        "#### `Make the transformation on the test data`\n",
        "\n",
        "----"
      ]
    },
    {
      "cell_type": "code",
      "execution_count": null,
      "id": "broke-illness",
      "metadata": {
        "id": "broke-illness"
      },
      "outputs": [],
      "source": [
        "# validation data\n",
        "valid_data = valid_data.withColumn(\"country_modified\", map_countries_udf(valid_data[\"Country\"]))\n",
        "# test data\n",
        "test_data = test_data.withColumn(\"country_modified\", map_countries_udf(test_data[\"Country\"]))"
      ]
    },
    {
      "cell_type": "markdown",
      "id": "union-cross",
      "metadata": {
        "id": "union-cross"
      },
      "source": [
        "---\n",
        "\n",
        "#### `Column - Traffic Type`\n",
        "\n",
        "Now, let's explore the column `TrafficType` and we have already identified that it has 2 different categories. Let's find out the number of data points in each of the category.\n",
        "\n",
        "---"
      ]
    },
    {
      "cell_type": "code",
      "execution_count": null,
      "id": "different-receiver",
      "metadata": {
        "colab": {
          "base_uri": "https://localhost:8080/"
        },
        "id": "different-receiver",
        "outputId": "892f067a-66f0-4983-fd12-9f97a4d12b9c"
      },
      "outputs": [
        {
          "name": "stdout",
          "output_type": "stream",
          "text": [
            "+-----------+------+----------+\n",
            "|TrafficType| count|percentage|\n",
            "+-----------+------+----------+\n",
            "|       NULL|     0|       0.0|\n",
            "|          M|370845|   26.4889|\n",
            "|          A|828429|   59.1735|\n",
            "+-----------+------+----------+\n",
            "\n"
          ]
        }
      ],
      "source": [
        "# number of data points in each category and their percentage upto 4 decimal points\n",
        "traffic_type = train_data.groupBy(\"TrafficType\").agg(F.count(\"TrafficType\").alias(\"count\"),\n",
        "                                                     F.round((F.count(\"TrafficType\")/train_data.count())*100, 4).alias(\"percentage\"))\n",
        "traffic_type.show()"
      ]
    },
    {
      "cell_type": "markdown",
      "id": "activated-lyric",
      "metadata": {
        "id": "activated-lyric"
      },
      "source": [
        "---\n",
        "\n",
        "We also saw that the column `TrafficType` has 200726 missing values, almost 16 percent So, We will fill all those values with the `\"U\"` a third category which means unidentified. We will do this in the pre-processing stage where we will fill null values of all the required columns.\n",
        "\n",
        "---"
      ]
    },
    {
      "cell_type": "markdown",
      "id": "insured-scale",
      "metadata": {
        "id": "insured-scale"
      },
      "source": [
        "---\n",
        "\n",
        "#### `Column - Fraud`\n",
        "\n",
        "Now, let's explore the column `Fraud` and we have already identified that it has 2 different categories. Let's find out the number of data points in each of the category.\n",
        "\n",
        "---"
      ]
    },
    {
      "cell_type": "code",
      "execution_count": null,
      "id": "associate-invitation",
      "metadata": {
        "colab": {
          "base_uri": "https://localhost:8080/"
        },
        "id": "associate-invitation",
        "outputId": "1703b497-461b-4ce6-9139-b9143115ac05"
      },
      "outputs": [
        {
          "name": "stdout",
          "output_type": "stream",
          "text": [
            "+-----+-------+----------+\n",
            "|Fraud|  count|percentage|\n",
            "+-----+-------+----------+\n",
            "|  0.0|1399992| 99.999429|\n",
            "|  1.0|      8|   5.71E-4|\n",
            "+-----+-------+----------+\n",
            "\n"
          ]
        }
      ],
      "source": [
        "# number of data points in each category and their percentage upto 6 decimal points\n",
        "fraud_type = train_data.groupBy(\"Fraud\").agg(F.count(\"Fraud\").alias(\"count\"),\n",
        "                                             F.round((F.count(\"Fraud\")/train_data.count())*100, 6).alias(\"percentage\"))\n",
        "fraud_type.show()"
      ]
    },
    {
      "cell_type": "markdown",
      "id": "protective-satellite",
      "metadata": {
        "id": "protective-satellite"
      },
      "source": [
        "---\n",
        "---\n",
        "\n",
        "#### `Column - Device`\n",
        "\n",
        "\n",
        "Next, we will explore the Device column. We have already seen that, we have 764 devices in the dataset and this feature also has very high cardinality. So, we will have to reduce the number of the categories. Let's have a look at some of the top device categories in the dataset.\n",
        "\n",
        "---"
      ]
    },
    {
      "cell_type": "code",
      "execution_count": null,
      "id": "worthy-invalid",
      "metadata": {
        "colab": {
          "base_uri": "https://localhost:8080/"
        },
        "id": "worthy-invalid",
        "outputId": "bad2ebb1-1597-4965-966d-11cccc4756fa",
        "scrolled": true
      },
      "outputs": [
        {
          "name": "stdout",
          "output_type": "stream",
          "text": [
            "+--------+-------------+\n",
            "|  Device|count(Device)|\n",
            "+--------+-------------+\n",
            "| Generic|       695723|\n",
            "| Samsung|       197666|\n",
            "|  Lenovo|        58867|\n",
            "|     ZTE|        41291|\n",
            "|Micromax|        40801|\n",
            "| Alcatel|        40469|\n",
            "|    Lava|        19338|\n",
            "|Symphony|        19286|\n",
            "|   Intex|        18600|\n",
            "|      LG|        18216|\n",
            "|    Sony|        14370|\n",
            "|  Huawei|        13618|\n",
            "|   Apple|        11467|\n",
            "|     HTC|        10900|\n",
            "|Motorola|        10492|\n",
            "|    Asus|         9090|\n",
            "|    true|         8232|\n",
            "| Oukitel|         7395|\n",
            "|   Tecno|         7300|\n",
            "|  Gionee|         6887|\n",
            "+--------+-------------+\n",
            "only showing top 20 rows\n",
            "\n"
          ]
        }
      ],
      "source": [
        "top_devices = train_data.groupBy(\"Device\").agg(F.count(\"Device\"))\n",
        "top_devices.orderBy(\"count(Device)\",ascending=False).show(20)"
      ]
    },
    {
      "cell_type": "markdown",
      "id": "electrical-mobile",
      "metadata": {
        "id": "electrical-mobile"
      },
      "source": [
        "----\n",
        "\n",
        "Now, we can see the most of the devices are `Generic` and others are some brand names. We got `Generic` whenever we are unable to find out the brand of the device. So, we will create only 2 categories for this feature `Generic` and `Not Generic` and map them as 0 and 1.\n",
        "\n",
        "Let's define a function to do the mapping.\n",
        "\n",
        "----"
      ]
    },
    {
      "cell_type": "code",
      "execution_count": null,
      "id": "progressive-average",
      "metadata": {
        "id": "progressive-average"
      },
      "outputs": [],
      "source": [
        "# define the function to map the devices.\n",
        "def map_device(x):\n",
        "    if x not in [\"Generic\"]:\n",
        "        return 0\n",
        "    else:\n",
        "        return 1"
      ]
    },
    {
      "cell_type": "markdown",
      "id": "printable-picnic",
      "metadata": {
        "id": "printable-picnic"
      },
      "source": [
        "----\n",
        "\n",
        "Convert to UDF function.\n",
        "\n",
        "---"
      ]
    },
    {
      "cell_type": "code",
      "execution_count": null,
      "id": "united-madison",
      "metadata": {
        "id": "united-madison"
      },
      "outputs": [],
      "source": [
        "# convert tot udf function\n",
        "map_device_udf = F.udf(f = map_device, returnType= tp.IntegerType())"
      ]
    },
    {
      "cell_type": "markdown",
      "id": "sorted-seller",
      "metadata": {
        "id": "sorted-seller"
      },
      "source": [
        "---\n",
        "\n",
        "Use the function `withColumn` & `map_device_udf` to map the device in the original data.\n",
        "\n",
        "\n",
        "---"
      ]
    },
    {
      "cell_type": "code",
      "execution_count": null,
      "id": "dedicated-demonstration",
      "metadata": {
        "id": "dedicated-demonstration"
      },
      "outputs": [],
      "source": [
        "# map device\n",
        "train_data = train_data.withColumn(\"device_modified\", map_device_udf(train_data[\"Device\"]))"
      ]
    },
    {
      "cell_type": "markdown",
      "id": "magnetic-candidate",
      "metadata": {
        "id": "magnetic-candidate"
      },
      "source": [
        "----\n",
        "\n",
        "Check the number of devices in each category `Generic` and `Not Generic`.\n",
        "\n",
        "---"
      ]
    },
    {
      "cell_type": "code",
      "execution_count": null,
      "id": "lasting-representation",
      "metadata": {
        "colab": {
          "base_uri": "https://localhost:8080/"
        },
        "id": "lasting-representation",
        "outputId": "95e3c14f-154d-4271-c608-b3c0b76810b9"
      },
      "outputs": [
        {
          "name": "stdout",
          "output_type": "stream",
          "text": [
            "+---------------+----------------------+\n",
            "|device_modified|count(device_modified)|\n",
            "+---------------+----------------------+\n",
            "|              1|                695723|\n",
            "|              0|                704277|\n",
            "+---------------+----------------------+\n",
            "\n"
          ]
        }
      ],
      "source": [
        "train_data.groupBy(\"device_modified\").agg(F.count(\"device_modified\")).show()"
      ]
    },
    {
      "cell_type": "markdown",
      "id": "tropical-tyler",
      "metadata": {
        "id": "tropical-tyler"
      },
      "source": [
        "---\n",
        "\n",
        "#### `Make the transformation on test data`\n",
        "\n",
        "---"
      ]
    },
    {
      "cell_type": "code",
      "execution_count": null,
      "id": "radical-stocks",
      "metadata": {
        "id": "radical-stocks"
      },
      "outputs": [],
      "source": [
        "# map the device\n",
        "\n",
        "# validation data\n",
        "valid_data = valid_data.withColumn(\"device_modified\", map_device_udf(valid_data[\"Device\"]))\n",
        "# test data\n",
        "test_data = test_data.withColumn(\"device_modified\", map_device_udf(test_data[\"Device\"]))"
      ]
    },
    {
      "cell_type": "markdown",
      "id": "grateful-checkout",
      "metadata": {
        "id": "grateful-checkout"
      },
      "source": [
        "---\n",
        "\n",
        "#### `Column - Browser`\n",
        "\n",
        "Now, let's explore the browser column We know that we have 30 different browsers in the dataset. Let's look at the numbers how many data points we have for each category of the Browser.\n",
        "\n",
        "\n",
        "---"
      ]
    },
    {
      "cell_type": "code",
      "execution_count": null,
      "id": "gorgeous-thirty",
      "metadata": {
        "colab": {
          "base_uri": "https://localhost:8080/"
        },
        "id": "gorgeous-thirty",
        "outputId": "71decfbd-52c6-41ad-be9f-36e7921b8548"
      },
      "outputs": [
        {
          "name": "stdout",
          "output_type": "stream",
          "text": [
            "+--------------------+--------------+\n",
            "|             Browser|count(Browser)|\n",
            "+--------------------+--------------+\n",
            "|      android_webkit|        661313|\n",
            "|              chrome|        584749|\n",
            "|        46.0.2490.76|         91529|\n",
            "|                  uc|         26155|\n",
            "|            chromium|         11424|\n",
            "|              iphone|         11070|\n",
            "|               opera|          4405|\n",
            "|              safari|           942|\n",
            "|     firefox_desktop|           911|\n",
            "|                msie|           690|\n",
            "|            iemobile|           409|\n",
            "|      firefox_mobile|           390|\n",
            "|       tizen_browser|           227|\n",
            "|             samsung|           223|\n",
            "|          blackberry|           180|\n",
            "|                 ovi|           130|\n",
            "|              dorado|            79|\n",
            "|              fennec|            37|\n",
            "|         wap_browser|            23|\n",
            "|            netfront|            12|\n",
            "|        novarra_nweb|            11|\n",
            "|             phantom|             6|\n",
            "|             firefox|             6|\n",
            "|dolfin/jasmine_we...|             5|\n",
            "|    maui_wap_browser|             2|\n",
            "|        teleca-obigo|             2|\n",
            "|         mqq_browser|             2|\n",
            "|        opera_tablet|             1|\n",
            "|openwave_mobile_b...|             1|\n",
            "|         edge_mobile|             1|\n",
            "+--------------------+--------------+\n",
            "only showing top 30 rows\n",
            "\n"
          ]
        }
      ],
      "source": [
        "# each browser count in the dataset\n",
        "top_browser = train_data.groupBy(\"Browser\").agg(F.count(\"Browser\"))\n",
        "top_browser.orderBy(\"count(Browser)\",ascending=False).show(30)"
      ]
    },
    {
      "cell_type": "markdown",
      "id": "individual-january",
      "metadata": {
        "id": "individual-january"
      },
      "source": [
        "---\n",
        "\n",
        "Now, we want to reduce the number of categories so we will club some of the categories as following:\n",
        "\n",
        "> * **chrome** : `android_webkit`, `chrome`, `46.0.2490.76` (chrome version), `chromium`\n",
        "> * **safari** : `iphone`, `safari`\n",
        "> * **firefox** : `firefox_mobile`, `firefox`, `firefox_desktop`\n",
        "> * **others** : Rest of the Browsers\n",
        "\n",
        "\n",
        "\n",
        "Let's define the function to map the browsers\n",
        "\n",
        "---"
      ]
    },
    {
      "cell_type": "code",
      "execution_count": null,
      "id": "meaning-there",
      "metadata": {
        "id": "meaning-there"
      },
      "outputs": [],
      "source": [
        "# function to map the broswer\n",
        "def map_browser(x):\n",
        "    if x in [\"android_webkit\", \"chrome\", \"46.0.2490.76\", \"chromium\"]:\n",
        "        return \"chrome\"\n",
        "\n",
        "    elif x in [\"iphone\", \"safari\"]:\n",
        "        return \"safari\"\n",
        "\n",
        "    elif x in [\"firefox_mobile\", \"firefox\", \"firefox_desktop\"]:\n",
        "        return \"firefox\"\n",
        "    else:\n",
        "        return \"others\""
      ]
    },
    {
      "cell_type": "markdown",
      "id": "bibliographic-scoop",
      "metadata": {
        "id": "bibliographic-scoop"
      },
      "source": [
        "---\n",
        "\n",
        "Convert to udf function\n",
        "\n",
        "---"
      ]
    },
    {
      "cell_type": "code",
      "execution_count": null,
      "id": "wound-processor",
      "metadata": {
        "id": "wound-processor"
      },
      "outputs": [],
      "source": [
        "# convert to udf function\n",
        "map_browser_udf = F.udf(f = map_browser, returnType= tp.StringType())"
      ]
    },
    {
      "cell_type": "markdown",
      "id": "overall-leone",
      "metadata": {
        "id": "overall-leone"
      },
      "source": [
        "---\n",
        "\n",
        "Use the function `withColumn` & `map_browser_udf` to map the browser in the original data.\n",
        "\n",
        "---"
      ]
    },
    {
      "cell_type": "code",
      "execution_count": null,
      "id": "experienced-touch",
      "metadata": {
        "id": "experienced-touch"
      },
      "outputs": [],
      "source": [
        "# update the column\n",
        "train_data = train_data.withColumn(\"browser_modified\", map_browser_udf(train_data[\"Browser\"]))"
      ]
    },
    {
      "cell_type": "markdown",
      "id": "balanced-yukon",
      "metadata": {
        "id": "balanced-yukon"
      },
      "source": [
        "---\n",
        "\n",
        "Let's have a look at the number of data points with each category.\n",
        "\n",
        "---"
      ]
    },
    {
      "cell_type": "code",
      "execution_count": null,
      "id": "declared-woman",
      "metadata": {
        "colab": {
          "base_uri": "https://localhost:8080/"
        },
        "id": "declared-woman",
        "outputId": "7cfc8e61-16f1-45c0-9dc0-8183b9985838",
        "scrolled": true
      },
      "outputs": [
        {
          "name": "stdout",
          "output_type": "stream",
          "text": [
            "+----------------+-------+\n",
            "|browser_modified|  count|\n",
            "+----------------+-------+\n",
            "|         firefox|   1307|\n",
            "|          chrome|1349015|\n",
            "|          others|  37666|\n",
            "|          safari|  12012|\n",
            "+----------------+-------+\n",
            "\n"
          ]
        }
      ],
      "source": [
        "# data distribution of browser column\n",
        "browser_distribution = train_data.groupBy(\"browser_modified\").agg(F.count(\"browser_modified\").alias(\"count\")).show()\n",
        "browser_distribution"
      ]
    },
    {
      "cell_type": "markdown",
      "id": "western-december",
      "metadata": {
        "id": "western-december"
      },
      "source": [
        "---\n",
        "\n",
        "#### `Make the transformation on the test data.`\n",
        "\n",
        "\n",
        "----"
      ]
    },
    {
      "cell_type": "code",
      "execution_count": null,
      "id": "bibliographic-pilot",
      "metadata": {
        "id": "bibliographic-pilot"
      },
      "outputs": [],
      "source": [
        "# reduce browser categories in the test and validation data\n",
        "# validation data\n",
        "valid_data = valid_data.withColumn(\"browser_modified\", map_browser_udf(valid_data[\"Browser\"]))\n",
        "# test data\n",
        "test_data = test_data.withColumn(\"browser_modified\", map_browser_udf(test_data[\"Browser\"]))"
      ]
    },
    {
      "cell_type": "markdown",
      "id": "strong-stockholm",
      "metadata": {
        "id": "strong-stockholm"
      },
      "source": [
        "---\n",
        "\n",
        "#### `Column - OS`\n",
        "\n",
        "---\n",
        "\n",
        "Now, let's explore the OS column. We have 15 different OS in the dataset. Let's have a look at the number of data points and clicks for each category in the OS.\n",
        "\n",
        "\n",
        "---"
      ]
    },
    {
      "cell_type": "code",
      "execution_count": null,
      "id": "choice-teddy",
      "metadata": {
        "colab": {
          "base_uri": "https://localhost:8080/"
        },
        "id": "choice-teddy",
        "outputId": "231dfafb-c402-4218-ebd7-78b80bfd6584"
      },
      "outputs": [
        {
          "name": "stdout",
          "output_type": "stream",
          "text": [
            "+----------------+---------+\n",
            "|              OS|count(OS)|\n",
            "+----------------+---------+\n",
            "|         Android|  1377749|\n",
            "|             iOS|    11398|\n",
            "|         Desktop|     4589|\n",
            "|Windows Phone OS|      931|\n",
            "|           Tizen|      227|\n",
            "|          RIM OS|      211|\n",
            "|        Mac OS X|       61|\n",
            "|         Xbox OS|       28|\n",
            "|      Symbian OS|       14|\n",
            "|      Firefox OS|        6|\n",
            "|  PlayStation OS|        3|\n",
            "|  MTK/Nucleus OS|        2|\n",
            "|           MeeGo|        2|\n",
            "|   RIM Tablet OS|        2|\n",
            "|      Windows RT|        1|\n",
            "|            NULL|        0|\n",
            "+----------------+---------+\n",
            "\n"
          ]
        }
      ],
      "source": [
        "# groupby to find number of data points in each category of the OS\n",
        "top_os = train_data.groupBy(\"OS\").agg(F.count(\"OS\"))\n",
        "top_os.orderBy(\"count(OS)\",ascending=False).show(23)"
      ]
    },
    {
      "cell_type": "markdown",
      "id": "alleged-mongolia",
      "metadata": {
        "id": "alleged-mongolia"
      },
      "source": [
        "----\n",
        "\n",
        "\n",
        "- We can observe here, that a majority of devices are from `Android`, so we can reduce the categories to either 2, `Android` or `Not Android`.\n",
        "- But, let's keep some more. We will club `iOS` and `Mac OS X`. `Android` as a separate category and rest of the categories as `Others`.\n",
        "\n",
        "\n",
        "Let's define a function to map the OS.\n",
        "\n",
        "----"
      ]
    },
    {
      "cell_type": "code",
      "execution_count": null,
      "id": "unlike-riverside",
      "metadata": {
        "id": "unlike-riverside"
      },
      "outputs": [],
      "source": [
        "# define a function to map the OS.\n",
        "def map_os(x):\n",
        "    if x in [\"Android\"]:\n",
        "        return \"Android\"\n",
        "\n",
        "    elif x in [\"iOS\", \"Mac OS X\"]:\n",
        "        return \"ios\"\n",
        "    else:\n",
        "        return \"others\""
      ]
    },
    {
      "cell_type": "markdown",
      "id": "eight-claim",
      "metadata": {
        "id": "eight-claim"
      },
      "source": [
        "---\n",
        "\n",
        "Convert to UDF Function.\n",
        "\n",
        "---"
      ]
    },
    {
      "cell_type": "code",
      "execution_count": null,
      "id": "fossil-exclusion",
      "metadata": {
        "id": "fossil-exclusion"
      },
      "outputs": [],
      "source": [
        "# convert the map_os\n",
        "map_os_udf = F.udf(f= map_os, returnType= tp.StringType())"
      ]
    },
    {
      "cell_type": "code",
      "execution_count": null,
      "id": "broad-baghdad",
      "metadata": {
        "id": "broad-baghdad"
      },
      "outputs": [],
      "source": [
        "# modify the data using the withColumn and map_os_udf function\n",
        "train_data = train_data.withColumn(\"modified_os\", map_os_udf(train_data[\"OS\"]))"
      ]
    },
    {
      "cell_type": "markdown",
      "id": "outside-thousand",
      "metadata": {
        "id": "outside-thousand"
      },
      "source": [
        "---\n",
        "\n",
        "Now, let's check the data points in updated categories of the OS column.\n",
        "\n",
        "----"
      ]
    },
    {
      "cell_type": "code",
      "execution_count": null,
      "id": "molecular-jungle",
      "metadata": {
        "colab": {
          "base_uri": "https://localhost:8080/"
        },
        "id": "molecular-jungle",
        "outputId": "abc56877-0179-4cc1-9a4a-362eafb2ee57",
        "scrolled": true
      },
      "outputs": [
        {
          "name": "stdout",
          "output_type": "stream",
          "text": [
            "+-----------+------------------+\n",
            "|modified_os|count(modified_os)|\n",
            "+-----------+------------------+\n",
            "|     others|             10792|\n",
            "|    Android|           1377749|\n",
            "|        ios|             11459|\n",
            "+-----------+------------------+\n",
            "\n"
          ]
        }
      ],
      "source": [
        "train_data.groupBy(\"modified_os\").agg(F.count(\"modified_os\")).show()"
      ]
    },
    {
      "cell_type": "markdown",
      "id": "selected-johns",
      "metadata": {
        "id": "selected-johns"
      },
      "source": [
        "---\n",
        "\n",
        "#### `Make the transformation on the test data`\n",
        "\n",
        "---"
      ]
    },
    {
      "cell_type": "code",
      "execution_count": null,
      "id": "worse-composition",
      "metadata": {
        "id": "worse-composition"
      },
      "outputs": [],
      "source": [
        "# validation dta\n",
        "valid_data = valid_data.withColumn(\"modified_os\", map_os_udf(valid_data[\"OS\"]))\n",
        "# test data\n",
        "test_data = test_data.withColumn(\"modified_os\", map_os_udf(test_data[\"OS\"]))"
      ]
    },
    {
      "cell_type": "markdown",
      "id": "fatty-audience",
      "metadata": {
        "id": "fatty-audience"
      },
      "source": [
        "----\n",
        "\n",
        "#### `Column - Publisher ID`\n",
        "\n",
        "---\n",
        "\n",
        "Next, we will explore the publisherId.  Let's find out first how many different publisher we have in the dataset.\n",
        "\n",
        "\n",
        "----"
      ]
    },
    {
      "cell_type": "code",
      "execution_count": null,
      "id": "impressive-wrestling",
      "metadata": {
        "colab": {
          "base_uri": "https://localhost:8080/"
        },
        "id": "impressive-wrestling",
        "outputId": "2e5193cf-29e3-4ee2-bcdd-f58ab88e734f",
        "scrolled": true
      },
      "outputs": [
        {
          "name": "stdout",
          "output_type": "stream",
          "text": [
            "+---------------------------+\n",
            "|count(DISTINCT publisherId)|\n",
            "+---------------------------+\n",
            "|                       2052|\n",
            "+---------------------------+\n",
            "\n"
          ]
        }
      ],
      "source": [
        "# distinct values in the publisherId\n",
        "train_data.agg(F.countDistinct(\"publisherId\")).show()"
      ]
    },
    {
      "cell_type": "markdown",
      "id": "directed-vienna",
      "metadata": {
        "id": "directed-vienna"
      },
      "source": [
        "---\n",
        "\n",
        "\n",
        "Now, you must have noticed that `publisherId` column has the numeric data type. But these are different categories of the column. We cannot use this feature as a numeric one.\n",
        "\n",
        "But we will use this column to create another feature: `frequency per publisher id`. For example, we have `publisher id: 55`\n",
        "\n",
        "And id `55` is present in `45000` data points.\n",
        "\n",
        "So the frequency per publisher id for `id:55` is `93726`\n",
        "\n",
        "---\n",
        "\n",
        "To find out this we will first create a dataframe `total_p_id` which will have the total data points for each publisher id.\n",
        "\n",
        "---"
      ]
    },
    {
      "cell_type": "code",
      "execution_count": null,
      "id": "gygsC4VPtc7p",
      "metadata": {
        "colab": {
          "base_uri": "https://localhost:8080/"
        },
        "id": "gygsC4VPtc7p",
        "outputId": "0b26ce2b-a3c9-479a-950a-5c88f04b412b"
      },
      "outputs": [
        {
          "name": "stdout",
          "output_type": "stream",
          "text": [
            "Number of rows where id = 50: 93726\n"
          ]
        }
      ],
      "source": [
        "# Filter rows where id == 50\n",
        "id_55_data = train_data.filter(train_data.publisherId == 55)\n",
        "\n",
        "# See how many rows have id = 50\n",
        "id_55_count = id_55_data.count()\n",
        "print(f\"Number of rows where id = 50: {id_55_count}\")\n"
      ]
    },
    {
      "cell_type": "code",
      "execution_count": null,
      "id": "competent-class",
      "metadata": {
        "colab": {
          "base_uri": "https://localhost:8080/"
        },
        "id": "competent-class",
        "outputId": "ca3b89d6-e070-4984-a0e3-7f2ec61c0e47"
      },
      "outputs": [
        {
          "name": "stdout",
          "output_type": "stream",
          "text": [
            "+-----------+----------+\n",
            "|publisherId|total_p_id|\n",
            "+-----------+----------+\n",
            "|      37311|         8|\n",
            "|       6240|        62|\n",
            "|      42370|       105|\n",
            "|      35640|         9|\n",
            "|      37774|         1|\n",
            "|      39457|         5|\n",
            "|      39458|         9|\n",
            "|      38223|         6|\n",
            "|      31713|         1|\n",
            "|      18314|         1|\n",
            "|        125|        63|\n",
            "|      28524|        13|\n",
            "|       9569|         6|\n",
            "|      27339|        30|\n",
            "|      17910|         2|\n",
            "|       6366|         1|\n",
            "|      38526|         2|\n",
            "|      33774|         1|\n",
            "|        853|         1|\n",
            "|      41009|         3|\n",
            "+-----------+----------+\n",
            "only showing top 20 rows\n",
            "\n"
          ]
        }
      ],
      "source": [
        "## groupby to calculate total data points for each publisher id.\n",
        "total_p_id = train_data.groupBy(\"publisherId\").agg(F.count(\"ConversionStatus\").alias(\"total_p_id\"))\n",
        "total_p_id.show()"
      ]
    },
    {
      "cell_type": "markdown",
      "id": "supported-german",
      "metadata": {
        "id": "supported-german"
      },
      "source": [
        "---\n",
        "\n",
        "Next, we will join this feature with the original train data.\n",
        "\n",
        "---"
      ]
    },
    {
      "cell_type": "code",
      "execution_count": null,
      "id": "equivalent-sound",
      "metadata": {
        "id": "equivalent-sound"
      },
      "outputs": [],
      "source": [
        "# now, we will join this data with the original train data\n",
        "train_data = train_data.join(total_p_id, on=\"publisherId\")"
      ]
    },
    {
      "cell_type": "code",
      "execution_count": null,
      "id": "willing-essay",
      "metadata": {
        "colab": {
          "base_uri": "https://localhost:8080/"
        },
        "id": "willing-essay",
        "outputId": "5bd68d1a-3fbc-46dd-93ad-67704ca26158"
      },
      "outputs": [
        {
          "name": "stdout",
          "output_type": "stream",
          "text": [
            "+-----------+----------+\n",
            "|publisherId|total_p_id|\n",
            "+-----------+----------+\n",
            "|      37311|         8|\n",
            "|       6240|        62|\n",
            "|      42370|       105|\n",
            "|      42370|       105|\n",
            "|      42370|       105|\n",
            "|      42370|       105|\n",
            "|       6240|        62|\n",
            "|      42370|       105|\n",
            "|      42370|       105|\n",
            "|      42370|       105|\n",
            "|       6240|        62|\n",
            "|      35640|         9|\n",
            "|      35640|         9|\n",
            "|      42370|       105|\n",
            "|      37774|         1|\n",
            "|       6240|        62|\n",
            "|      42370|       105|\n",
            "|      42370|       105|\n",
            "|      42370|       105|\n",
            "|      42370|       105|\n",
            "+-----------+----------+\n",
            "only showing top 20 rows\n",
            "\n"
          ]
        }
      ],
      "source": [
        "train_data.select(\"publisherId\", \"total_p_id\").show()"
      ]
    },
    {
      "cell_type": "markdown",
      "id": "shaped-insert",
      "metadata": {
        "id": "shaped-insert"
      },
      "source": [
        "----\n",
        "\n",
        "#### `Make the transformation on test data`\n",
        "\n",
        "----"
      ]
    },
    {
      "cell_type": "code",
      "execution_count": null,
      "id": "breathing-audience",
      "metadata": {
        "id": "breathing-audience"
      },
      "outputs": [],
      "source": [
        "# now, we will join this data with the original test data\n",
        "\n",
        "# validation\n",
        "valid_data = valid_data.join(total_p_id, on=\"publisherId\")\n",
        "# test\n",
        "test_data = test_data.join(total_p_id, on=\"publisherId\")"
      ]
    },
    {
      "cell_type": "markdown",
      "id": "serious-narrative",
      "metadata": {
        "id": "serious-narrative"
      },
      "source": [
        "---\n",
        "\n",
        "#### `Column - Advertiser Campaign ID`\n",
        "\n",
        "\n",
        "---\n",
        "\n",
        "Now, we will explore the `Campaign ID` and find out the number of distinct values in it.\n",
        "\n",
        "---"
      ]
    },
    {
      "cell_type": "code",
      "execution_count": null,
      "id": "continental-lyric",
      "metadata": {
        "colab": {
          "base_uri": "https://localhost:8080/"
        },
        "id": "continental-lyric",
        "outputId": "91820a7a-311d-467b-f4f2-eaf1332e669a"
      },
      "outputs": [
        {
          "name": "stdout",
          "output_type": "stream",
          "text": [
            "+------------------------------------+\n",
            "|count(DISTINCT advertiserCampaignId)|\n",
            "+------------------------------------+\n",
            "|                                 500|\n",
            "+------------------------------------+\n",
            "\n"
          ]
        }
      ],
      "source": [
        "train_data.agg(F.countDistinct(\"advertiserCampaignId\")).show()"
      ]
    },
    {
      "cell_type": "markdown",
      "id": "modular-forum",
      "metadata": {
        "id": "modular-forum"
      },
      "source": [
        "---\n",
        "\n",
        "This feature is similar to the `publisherId` which looks numeric but actually categorical. So, we will do the same procedure as we did on the `publisherId`. And here we will calculate the `frequency per campaign id`\n",
        "\n",
        "\n",
        "First we will calculate the total data points for each campaign id.\n",
        "\n",
        "---"
      ]
    },
    {
      "cell_type": "code",
      "execution_count": null,
      "id": "cardiac-steel",
      "metadata": {
        "colab": {
          "base_uri": "https://localhost:8080/"
        },
        "id": "cardiac-steel",
        "outputId": "791133eb-27b0-459a-9dcd-cc8efef2715e"
      },
      "outputs": [
        {
          "name": "stdout",
          "output_type": "stream",
          "text": [
            "+--------------------+----------+\n",
            "|advertiserCampaignId|total_c_id|\n",
            "+--------------------+----------+\n",
            "|             12671.0|       441|\n",
            "|             14269.0|       344|\n",
            "|             13607.0|        21|\n",
            "|              7791.0|      1782|\n",
            "|             13811.0|        58|\n",
            "|              4385.0|     12034|\n",
            "|             10130.0|        20|\n",
            "|               735.0|     30971|\n",
            "|             16800.0|        15|\n",
            "|             14208.0|        59|\n",
            "|             15823.0|        36|\n",
            "|             12061.0|      6850|\n",
            "|                 0.0|      2574|\n",
            "|             12555.0|        97|\n",
            "|             15428.0|         3|\n",
            "|             14353.0|        15|\n",
            "|             11830.0|      7719|\n",
            "|             16060.0|      5624|\n",
            "|             12690.0|        54|\n",
            "|             16653.0|        25|\n",
            "+--------------------+----------+\n",
            "only showing top 20 rows\n",
            "\n"
          ]
        }
      ],
      "source": [
        "## groupby to calculate total data points for each campaign id.\n",
        "total_c_id = train_data.groupBy(\"advertiserCampaignId\").agg(F.count(\"ConversionStatus\").alias(\"total_c_id\"))\n",
        "total_c_id.show()"
      ]
    },
    {
      "cell_type": "code",
      "execution_count": null,
      "id": "promising-employer",
      "metadata": {
        "id": "promising-employer"
      },
      "outputs": [],
      "source": [
        "train_data = train_data.join(total_c_id, on=\"advertiserCampaignId\")"
      ]
    },
    {
      "cell_type": "code",
      "execution_count": null,
      "id": "celtic-photograph",
      "metadata": {
        "colab": {
          "base_uri": "https://localhost:8080/"
        },
        "id": "celtic-photograph",
        "outputId": "629c75e8-0748-48a7-a19c-68fb22680901",
        "scrolled": true
      },
      "outputs": [
        {
          "name": "stdout",
          "output_type": "stream",
          "text": [
            "+--------------------+----------+\n",
            "|advertiserCampaignId|total_c_id|\n",
            "+--------------------+----------+\n",
            "|             12671.0|       441|\n",
            "|             12671.0|       441|\n",
            "|             12671.0|       441|\n",
            "|             12671.0|       441|\n",
            "|             12671.0|       441|\n",
            "|             12671.0|       441|\n",
            "|             12671.0|       441|\n",
            "|             12671.0|       441|\n",
            "|             12671.0|       441|\n",
            "|             12671.0|       441|\n",
            "|             12671.0|       441|\n",
            "|             12671.0|       441|\n",
            "|             12671.0|       441|\n",
            "|             12671.0|       441|\n",
            "|             12671.0|       441|\n",
            "|             12671.0|       441|\n",
            "|             12671.0|       441|\n",
            "|             12671.0|       441|\n",
            "|             12671.0|       441|\n",
            "|             12671.0|       441|\n",
            "+--------------------+----------+\n",
            "only showing top 20 rows\n",
            "\n"
          ]
        }
      ],
      "source": [
        "train_data.select(\"advertiserCampaignId\", \"total_c_id\").show()"
      ]
    },
    {
      "cell_type": "markdown",
      "id": "hourly-messenger",
      "metadata": {
        "id": "hourly-messenger"
      },
      "source": [
        "#### `Make the transformation on test data`\n",
        "\n",
        "----"
      ]
    },
    {
      "cell_type": "code",
      "execution_count": null,
      "id": "voluntary-linux",
      "metadata": {
        "id": "voluntary-linux"
      },
      "outputs": [],
      "source": [
        "# validation data\n",
        "valid_data = valid_data.join(total_c_id, on=\"advertiserCampaignId\")\n",
        "# test data\n",
        "test_data = test_data.join(total_c_id, on=\"advertiserCampaignId\")"
      ]
    },
    {
      "cell_type": "markdown",
      "id": "informative-cambridge",
      "metadata": {
        "id": "informative-cambridge"
      },
      "source": [
        "---\n",
        "\n",
        "## `BIVARIATE ANALYSIS`\n",
        "\n",
        "---\n",
        "\n",
        "#### `Number of Clicks for each category of Country`\n",
        "\n",
        "---"
      ]
    },
    {
      "cell_type": "code",
      "execution_count": null,
      "id": "raised-reducing",
      "metadata": {
        "colab": {
          "base_uri": "https://localhost:8080/"
        },
        "id": "raised-reducing",
        "outputId": "c51401d4-910e-4ba6-cc70-a181568d27bf"
      },
      "outputs": [
        {
          "name": "stdout",
          "output_type": "stream",
          "text": [
            "+----------------+-------------+----------------+\n",
            "|country_modified|country_count|number_of_clicks|\n",
            "+----------------+-------------+----------------+\n",
            "|              DZ|        13232|              12|\n",
            "|              MX|        58908|              15|\n",
            "|              RU|        41288|             103|\n",
            "|              IQ|        12581|               7|\n",
            "|              BD|       106338|             198|\n",
            "|              ID|       119701|             113|\n",
            "|              BR|        57664|              31|\n",
            "|              GT|        13781|              10|\n",
            "|              VE|        15405|               1|\n",
            "|              ZA|        15835|              18|\n",
            "|              KR|        12906|               0|\n",
            "|              US|        26339|               6|\n",
            "|              MY|        29340|              18|\n",
            "|              IN|       391465|              82|\n",
            "|              AE|        10512|               1|\n",
            "|              PH|        19815|              15|\n",
            "|          Others|       154135|              83|\n",
            "|              TH|       230027|              97|\n",
            "|              BO|        21602|               4|\n",
            "|              CO|        12877|               7|\n",
            "+----------------+-------------+----------------+\n",
            "only showing top 20 rows\n",
            "\n"
          ]
        }
      ],
      "source": [
        "# number of datapoints with each country\n",
        "top_countries_with_clicks = train_data.groupBy(\"country_modified\").agg(F.count(\"country_modified\").alias(\"country_count\"),\n",
        "                                                                       F.sum(\"ConversionStatus\").alias(\"number_of_clicks\"))\n",
        "top_countries_with_clicks.show()"
      ]
    },
    {
      "cell_type": "code",
      "execution_count": null,
      "id": "lesser-breed",
      "metadata": {
        "id": "lesser-breed"
      },
      "outputs": [],
      "source": [
        "# create new column of percentage of clicks\n",
        "top_countries_with_clicks = top_countries_with_clicks.withColumn(\"percentage_of_clicks\", (top_countries_with_clicks[\"number_of_clicks\"]/top_countries_with_clicks[\"country_count\"])*100)"
      ]
    },
    {
      "cell_type": "code",
      "execution_count": null,
      "id": "greater-arizona",
      "metadata": {
        "colab": {
          "base_uri": "https://localhost:8080/",
          "height": 708
        },
        "id": "greater-arizona",
        "outputId": "4595a74a-1577-4ca1-c0a8-7ad0ca92a6c2"
      },
      "outputs": [
        {
          "data": {
            "application/vnd.google.colaboratory.intrinsic+json": {
              "summary": "{\n  \"name\": \"top_countries_with_clicks\",\n  \"rows\": 21,\n  \"fields\": [\n    {\n      \"column\": \"country_modified\",\n      \"properties\": {\n        \"dtype\": \"string\",\n        \"num_unique_values\": 21,\n        \"samples\": [\n          \"RU\",\n          \"BO\",\n          \"US\"\n        ],\n        \"semantic_type\": \"\",\n        \"description\": \"\"\n      }\n    },\n    {\n      \"column\": \"country_count\",\n      \"properties\": {\n        \"dtype\": \"number\",\n        \"std\": 93781,\n        \"min\": 10512,\n        \"max\": 391465,\n        \"num_unique_values\": 21,\n        \"samples\": [\n          41288,\n          21602,\n          26339\n        ],\n        \"semantic_type\": \"\",\n        \"description\": \"\"\n      }\n    },\n    {\n      \"column\": \"number_of_clicks\",\n      \"properties\": {\n        \"dtype\": \"number\",\n        \"std\": 52,\n        \"min\": 0,\n        \"max\": 198,\n        \"num_unique_values\": 17,\n        \"samples\": [\n          103,\n          198,\n          12\n        ],\n        \"semantic_type\": \"\",\n        \"description\": \"\"\n      }\n    },\n    {\n      \"column\": \"percentage_of_clicks\",\n      \"properties\": {\n        \"dtype\": \"number\",\n        \"std\": 0.06251634450189296,\n        \"min\": 0.0,\n        \"max\": 0.24946715752761092,\n        \"num_unique_values\": 21,\n        \"samples\": [\n          0.24946715752761092,\n          0.018516803999629666,\n          0.022779908121037244\n        ],\n        \"semantic_type\": \"\",\n        \"description\": \"\"\n      }\n    }\n  ]\n}",
              "type": "dataframe",
              "variable_name": "top_countries_with_clicks"
            },
            "text/html": [
              "\n",
              "  <div id=\"df-38e070c4-5174-41fa-8f86-4beda4310843\" class=\"colab-df-container\">\n",
              "    <div>\n",
              "<style scoped>\n",
              "    .dataframe tbody tr th:only-of-type {\n",
              "        vertical-align: middle;\n",
              "    }\n",
              "\n",
              "    .dataframe tbody tr th {\n",
              "        vertical-align: top;\n",
              "    }\n",
              "\n",
              "    .dataframe thead th {\n",
              "        text-align: right;\n",
              "    }\n",
              "</style>\n",
              "<table border=\"1\" class=\"dataframe\">\n",
              "  <thead>\n",
              "    <tr style=\"text-align: right;\">\n",
              "      <th></th>\n",
              "      <th>country_modified</th>\n",
              "      <th>country_count</th>\n",
              "      <th>number_of_clicks</th>\n",
              "      <th>percentage_of_clicks</th>\n",
              "    </tr>\n",
              "  </thead>\n",
              "  <tbody>\n",
              "    <tr>\n",
              "      <th>0</th>\n",
              "      <td>RU</td>\n",
              "      <td>41288</td>\n",
              "      <td>103</td>\n",
              "      <td>0.249467</td>\n",
              "    </tr>\n",
              "    <tr>\n",
              "      <th>1</th>\n",
              "      <td>BD</td>\n",
              "      <td>106338</td>\n",
              "      <td>198</td>\n",
              "      <td>0.186199</td>\n",
              "    </tr>\n",
              "    <tr>\n",
              "      <th>2</th>\n",
              "      <td>NG</td>\n",
              "      <td>36244</td>\n",
              "      <td>53</td>\n",
              "      <td>0.146231</td>\n",
              "    </tr>\n",
              "    <tr>\n",
              "      <th>3</th>\n",
              "      <td>ZA</td>\n",
              "      <td>15835</td>\n",
              "      <td>18</td>\n",
              "      <td>0.113672</td>\n",
              "    </tr>\n",
              "    <tr>\n",
              "      <th>4</th>\n",
              "      <td>ID</td>\n",
              "      <td>119701</td>\n",
              "      <td>113</td>\n",
              "      <td>0.094402</td>\n",
              "    </tr>\n",
              "    <tr>\n",
              "      <th>5</th>\n",
              "      <td>DZ</td>\n",
              "      <td>13232</td>\n",
              "      <td>12</td>\n",
              "      <td>0.090689</td>\n",
              "    </tr>\n",
              "    <tr>\n",
              "      <th>6</th>\n",
              "      <td>PH</td>\n",
              "      <td>19815</td>\n",
              "      <td>15</td>\n",
              "      <td>0.075700</td>\n",
              "    </tr>\n",
              "    <tr>\n",
              "      <th>7</th>\n",
              "      <td>GT</td>\n",
              "      <td>13781</td>\n",
              "      <td>10</td>\n",
              "      <td>0.072564</td>\n",
              "    </tr>\n",
              "    <tr>\n",
              "      <th>8</th>\n",
              "      <td>MY</td>\n",
              "      <td>29340</td>\n",
              "      <td>18</td>\n",
              "      <td>0.061350</td>\n",
              "    </tr>\n",
              "    <tr>\n",
              "      <th>9</th>\n",
              "      <td>IQ</td>\n",
              "      <td>12581</td>\n",
              "      <td>7</td>\n",
              "      <td>0.055639</td>\n",
              "    </tr>\n",
              "    <tr>\n",
              "      <th>10</th>\n",
              "      <td>CO</td>\n",
              "      <td>12877</td>\n",
              "      <td>7</td>\n",
              "      <td>0.054360</td>\n",
              "    </tr>\n",
              "    <tr>\n",
              "      <th>11</th>\n",
              "      <td>Others</td>\n",
              "      <td>154135</td>\n",
              "      <td>83</td>\n",
              "      <td>0.053849</td>\n",
              "    </tr>\n",
              "    <tr>\n",
              "      <th>12</th>\n",
              "      <td>BR</td>\n",
              "      <td>57664</td>\n",
              "      <td>31</td>\n",
              "      <td>0.053760</td>\n",
              "    </tr>\n",
              "    <tr>\n",
              "      <th>13</th>\n",
              "      <td>TH</td>\n",
              "      <td>230027</td>\n",
              "      <td>97</td>\n",
              "      <td>0.042169</td>\n",
              "    </tr>\n",
              "    <tr>\n",
              "      <th>14</th>\n",
              "      <td>MX</td>\n",
              "      <td>58908</td>\n",
              "      <td>15</td>\n",
              "      <td>0.025463</td>\n",
              "    </tr>\n",
              "    <tr>\n",
              "      <th>15</th>\n",
              "      <td>US</td>\n",
              "      <td>26339</td>\n",
              "      <td>6</td>\n",
              "      <td>0.022780</td>\n",
              "    </tr>\n",
              "    <tr>\n",
              "      <th>16</th>\n",
              "      <td>IN</td>\n",
              "      <td>391465</td>\n",
              "      <td>82</td>\n",
              "      <td>0.020947</td>\n",
              "    </tr>\n",
              "    <tr>\n",
              "      <th>17</th>\n",
              "      <td>BO</td>\n",
              "      <td>21602</td>\n",
              "      <td>4</td>\n",
              "      <td>0.018517</td>\n",
              "    </tr>\n",
              "    <tr>\n",
              "      <th>18</th>\n",
              "      <td>AE</td>\n",
              "      <td>10512</td>\n",
              "      <td>1</td>\n",
              "      <td>0.009513</td>\n",
              "    </tr>\n",
              "    <tr>\n",
              "      <th>19</th>\n",
              "      <td>VE</td>\n",
              "      <td>15405</td>\n",
              "      <td>1</td>\n",
              "      <td>0.006491</td>\n",
              "    </tr>\n",
              "    <tr>\n",
              "      <th>20</th>\n",
              "      <td>KR</td>\n",
              "      <td>12906</td>\n",
              "      <td>0</td>\n",
              "      <td>0.000000</td>\n",
              "    </tr>\n",
              "  </tbody>\n",
              "</table>\n",
              "</div>\n",
              "    <div class=\"colab-df-buttons\">\n",
              "\n",
              "  <div class=\"colab-df-container\">\n",
              "    <button class=\"colab-df-convert\" onclick=\"convertToInteractive('df-38e070c4-5174-41fa-8f86-4beda4310843')\"\n",
              "            title=\"Convert this dataframe to an interactive table.\"\n",
              "            style=\"display:none;\">\n",
              "\n",
              "  <svg xmlns=\"http://www.w3.org/2000/svg\" height=\"24px\" viewBox=\"0 -960 960 960\">\n",
              "    <path d=\"M120-120v-720h720v720H120Zm60-500h600v-160H180v160Zm220 220h160v-160H400v160Zm0 220h160v-160H400v160ZM180-400h160v-160H180v160Zm440 0h160v-160H620v160ZM180-180h160v-160H180v160Zm440 0h160v-160H620v160Z\"/>\n",
              "  </svg>\n",
              "    </button>\n",
              "\n",
              "  <style>\n",
              "    .colab-df-container {\n",
              "      display:flex;\n",
              "      gap: 12px;\n",
              "    }\n",
              "\n",
              "    .colab-df-convert {\n",
              "      background-color: #E8F0FE;\n",
              "      border: none;\n",
              "      border-radius: 50%;\n",
              "      cursor: pointer;\n",
              "      display: none;\n",
              "      fill: #1967D2;\n",
              "      height: 32px;\n",
              "      padding: 0 0 0 0;\n",
              "      width: 32px;\n",
              "    }\n",
              "\n",
              "    .colab-df-convert:hover {\n",
              "      background-color: #E2EBFA;\n",
              "      box-shadow: 0px 1px 2px rgba(60, 64, 67, 0.3), 0px 1px 3px 1px rgba(60, 64, 67, 0.15);\n",
              "      fill: #174EA6;\n",
              "    }\n",
              "\n",
              "    .colab-df-buttons div {\n",
              "      margin-bottom: 4px;\n",
              "    }\n",
              "\n",
              "    [theme=dark] .colab-df-convert {\n",
              "      background-color: #3B4455;\n",
              "      fill: #D2E3FC;\n",
              "    }\n",
              "\n",
              "    [theme=dark] .colab-df-convert:hover {\n",
              "      background-color: #434B5C;\n",
              "      box-shadow: 0px 1px 3px 1px rgba(0, 0, 0, 0.15);\n",
              "      filter: drop-shadow(0px 1px 2px rgba(0, 0, 0, 0.3));\n",
              "      fill: #FFFFFF;\n",
              "    }\n",
              "  </style>\n",
              "\n",
              "    <script>\n",
              "      const buttonEl =\n",
              "        document.querySelector('#df-38e070c4-5174-41fa-8f86-4beda4310843 button.colab-df-convert');\n",
              "      buttonEl.style.display =\n",
              "        google.colab.kernel.accessAllowed ? 'block' : 'none';\n",
              "\n",
              "      async function convertToInteractive(key) {\n",
              "        const element = document.querySelector('#df-38e070c4-5174-41fa-8f86-4beda4310843');\n",
              "        const dataTable =\n",
              "          await google.colab.kernel.invokeFunction('convertToInteractive',\n",
              "                                                    [key], {});\n",
              "        if (!dataTable) return;\n",
              "\n",
              "        const docLinkHtml = 'Like what you see? Visit the ' +\n",
              "          '<a target=\"_blank\" href=https://colab.research.google.com/notebooks/data_table.ipynb>data table notebook</a>'\n",
              "          + ' to learn more about interactive tables.';\n",
              "        element.innerHTML = '';\n",
              "        dataTable['output_type'] = 'display_data';\n",
              "        await google.colab.output.renderOutput(dataTable, element);\n",
              "        const docLink = document.createElement('div');\n",
              "        docLink.innerHTML = docLinkHtml;\n",
              "        element.appendChild(docLink);\n",
              "      }\n",
              "    </script>\n",
              "  </div>\n",
              "\n",
              "\n",
              "<div id=\"df-9d8c2265-39cc-4dea-bc9f-a11bc1916c57\">\n",
              "  <button class=\"colab-df-quickchart\" onclick=\"quickchart('df-9d8c2265-39cc-4dea-bc9f-a11bc1916c57')\"\n",
              "            title=\"Suggest charts\"\n",
              "            style=\"display:none;\">\n",
              "\n",
              "<svg xmlns=\"http://www.w3.org/2000/svg\" height=\"24px\"viewBox=\"0 0 24 24\"\n",
              "     width=\"24px\">\n",
              "    <g>\n",
              "        <path d=\"M19 3H5c-1.1 0-2 .9-2 2v14c0 1.1.9 2 2 2h14c1.1 0 2-.9 2-2V5c0-1.1-.9-2-2-2zM9 17H7v-7h2v7zm4 0h-2V7h2v10zm4 0h-2v-4h2v4z\"/>\n",
              "    </g>\n",
              "</svg>\n",
              "  </button>\n",
              "\n",
              "<style>\n",
              "  .colab-df-quickchart {\n",
              "      --bg-color: #E8F0FE;\n",
              "      --fill-color: #1967D2;\n",
              "      --hover-bg-color: #E2EBFA;\n",
              "      --hover-fill-color: #174EA6;\n",
              "      --disabled-fill-color: #AAA;\n",
              "      --disabled-bg-color: #DDD;\n",
              "  }\n",
              "\n",
              "  [theme=dark] .colab-df-quickchart {\n",
              "      --bg-color: #3B4455;\n",
              "      --fill-color: #D2E3FC;\n",
              "      --hover-bg-color: #434B5C;\n",
              "      --hover-fill-color: #FFFFFF;\n",
              "      --disabled-bg-color: #3B4455;\n",
              "      --disabled-fill-color: #666;\n",
              "  }\n",
              "\n",
              "  .colab-df-quickchart {\n",
              "    background-color: var(--bg-color);\n",
              "    border: none;\n",
              "    border-radius: 50%;\n",
              "    cursor: pointer;\n",
              "    display: none;\n",
              "    fill: var(--fill-color);\n",
              "    height: 32px;\n",
              "    padding: 0;\n",
              "    width: 32px;\n",
              "  }\n",
              "\n",
              "  .colab-df-quickchart:hover {\n",
              "    background-color: var(--hover-bg-color);\n",
              "    box-shadow: 0 1px 2px rgba(60, 64, 67, 0.3), 0 1px 3px 1px rgba(60, 64, 67, 0.15);\n",
              "    fill: var(--button-hover-fill-color);\n",
              "  }\n",
              "\n",
              "  .colab-df-quickchart-complete:disabled,\n",
              "  .colab-df-quickchart-complete:disabled:hover {\n",
              "    background-color: var(--disabled-bg-color);\n",
              "    fill: var(--disabled-fill-color);\n",
              "    box-shadow: none;\n",
              "  }\n",
              "\n",
              "  .colab-df-spinner {\n",
              "    border: 2px solid var(--fill-color);\n",
              "    border-color: transparent;\n",
              "    border-bottom-color: var(--fill-color);\n",
              "    animation:\n",
              "      spin 1s steps(1) infinite;\n",
              "  }\n",
              "\n",
              "  @keyframes spin {\n",
              "    0% {\n",
              "      border-color: transparent;\n",
              "      border-bottom-color: var(--fill-color);\n",
              "      border-left-color: var(--fill-color);\n",
              "    }\n",
              "    20% {\n",
              "      border-color: transparent;\n",
              "      border-left-color: var(--fill-color);\n",
              "      border-top-color: var(--fill-color);\n",
              "    }\n",
              "    30% {\n",
              "      border-color: transparent;\n",
              "      border-left-color: var(--fill-color);\n",
              "      border-top-color: var(--fill-color);\n",
              "      border-right-color: var(--fill-color);\n",
              "    }\n",
              "    40% {\n",
              "      border-color: transparent;\n",
              "      border-right-color: var(--fill-color);\n",
              "      border-top-color: var(--fill-color);\n",
              "    }\n",
              "    60% {\n",
              "      border-color: transparent;\n",
              "      border-right-color: var(--fill-color);\n",
              "    }\n",
              "    80% {\n",
              "      border-color: transparent;\n",
              "      border-right-color: var(--fill-color);\n",
              "      border-bottom-color: var(--fill-color);\n",
              "    }\n",
              "    90% {\n",
              "      border-color: transparent;\n",
              "      border-bottom-color: var(--fill-color);\n",
              "    }\n",
              "  }\n",
              "</style>\n",
              "\n",
              "  <script>\n",
              "    async function quickchart(key) {\n",
              "      const quickchartButtonEl =\n",
              "        document.querySelector('#' + key + ' button');\n",
              "      quickchartButtonEl.disabled = true;  // To prevent multiple clicks.\n",
              "      quickchartButtonEl.classList.add('colab-df-spinner');\n",
              "      try {\n",
              "        const charts = await google.colab.kernel.invokeFunction(\n",
              "            'suggestCharts', [key], {});\n",
              "      } catch (error) {\n",
              "        console.error('Error during call to suggestCharts:', error);\n",
              "      }\n",
              "      quickchartButtonEl.classList.remove('colab-df-spinner');\n",
              "      quickchartButtonEl.classList.add('colab-df-quickchart-complete');\n",
              "    }\n",
              "    (() => {\n",
              "      let quickchartButtonEl =\n",
              "        document.querySelector('#df-9d8c2265-39cc-4dea-bc9f-a11bc1916c57 button');\n",
              "      quickchartButtonEl.style.display =\n",
              "        google.colab.kernel.accessAllowed ? 'block' : 'none';\n",
              "    })();\n",
              "  </script>\n",
              "</div>\n",
              "\n",
              "  <div id=\"id_35b27865-816f-4068-a1a8-2016c339ae76\">\n",
              "    <style>\n",
              "      .colab-df-generate {\n",
              "        background-color: #E8F0FE;\n",
              "        border: none;\n",
              "        border-radius: 50%;\n",
              "        cursor: pointer;\n",
              "        display: none;\n",
              "        fill: #1967D2;\n",
              "        height: 32px;\n",
              "        padding: 0 0 0 0;\n",
              "        width: 32px;\n",
              "      }\n",
              "\n",
              "      .colab-df-generate:hover {\n",
              "        background-color: #E2EBFA;\n",
              "        box-shadow: 0px 1px 2px rgba(60, 64, 67, 0.3), 0px 1px 3px 1px rgba(60, 64, 67, 0.15);\n",
              "        fill: #174EA6;\n",
              "      }\n",
              "\n",
              "      [theme=dark] .colab-df-generate {\n",
              "        background-color: #3B4455;\n",
              "        fill: #D2E3FC;\n",
              "      }\n",
              "\n",
              "      [theme=dark] .colab-df-generate:hover {\n",
              "        background-color: #434B5C;\n",
              "        box-shadow: 0px 1px 3px 1px rgba(0, 0, 0, 0.15);\n",
              "        filter: drop-shadow(0px 1px 2px rgba(0, 0, 0, 0.3));\n",
              "        fill: #FFFFFF;\n",
              "      }\n",
              "    </style>\n",
              "    <button class=\"colab-df-generate\" onclick=\"generateWithVariable('top_countries_with_clicks')\"\n",
              "            title=\"Generate code using this dataframe.\"\n",
              "            style=\"display:none;\">\n",
              "\n",
              "  <svg xmlns=\"http://www.w3.org/2000/svg\" height=\"24px\"viewBox=\"0 0 24 24\"\n",
              "       width=\"24px\">\n",
              "    <path d=\"M7,19H8.4L18.45,9,17,7.55,7,17.6ZM5,21V16.75L18.45,3.32a2,2,0,0,1,2.83,0l1.4,1.43a1.91,1.91,0,0,1,.58,1.4,1.91,1.91,0,0,1-.58,1.4L9.25,21ZM18.45,9,17,7.55Zm-12,3A5.31,5.31,0,0,0,4.9,8.1,5.31,5.31,0,0,0,1,6.5,5.31,5.31,0,0,0,4.9,4.9,5.31,5.31,0,0,0,6.5,1,5.31,5.31,0,0,0,8.1,4.9,5.31,5.31,0,0,0,12,6.5,5.46,5.46,0,0,0,6.5,12Z\"/>\n",
              "  </svg>\n",
              "    </button>\n",
              "    <script>\n",
              "      (() => {\n",
              "      const buttonEl =\n",
              "        document.querySelector('#id_35b27865-816f-4068-a1a8-2016c339ae76 button.colab-df-generate');\n",
              "      buttonEl.style.display =\n",
              "        google.colab.kernel.accessAllowed ? 'block' : 'none';\n",
              "\n",
              "      buttonEl.onclick = () => {\n",
              "        google.colab.notebook.generateWithVariable('top_countries_with_clicks');\n",
              "      }\n",
              "      })();\n",
              "    </script>\n",
              "  </div>\n",
              "\n",
              "    </div>\n",
              "  </div>\n"
            ],
            "text/plain": [
              "   country_modified  country_count  number_of_clicks  percentage_of_clicks\n",
              "0                RU          41288               103              0.249467\n",
              "1                BD         106338               198              0.186199\n",
              "2                NG          36244                53              0.146231\n",
              "3                ZA          15835                18              0.113672\n",
              "4                ID         119701               113              0.094402\n",
              "5                DZ          13232                12              0.090689\n",
              "6                PH          19815                15              0.075700\n",
              "7                GT          13781                10              0.072564\n",
              "8                MY          29340                18              0.061350\n",
              "9                IQ          12581                 7              0.055639\n",
              "10               CO          12877                 7              0.054360\n",
              "11           Others         154135                83              0.053849\n",
              "12               BR          57664                31              0.053760\n",
              "13               TH         230027                97              0.042169\n",
              "14               MX          58908                15              0.025463\n",
              "15               US          26339                 6              0.022780\n",
              "16               IN         391465                82              0.020947\n",
              "17               BO          21602                 4              0.018517\n",
              "18               AE          10512                 1              0.009513\n",
              "19               VE          15405                 1              0.006491\n",
              "20               KR          12906                 0              0.000000"
            ]
          },
          "execution_count": 66,
          "metadata": {},
          "output_type": "execute_result"
        }
      ],
      "source": [
        "# Sort the dataframe by percentage of clicks in descending order\n",
        "top_countries_with_clicks= top_countries_with_clicks.orderBy(\"percentage_of_clicks\", ascending = False).toPandas()\n",
        "top_countries_with_clicks"
      ]
    },
    {
      "cell_type": "code",
      "execution_count": null,
      "id": "affected-camcorder",
      "metadata": {
        "colab": {
          "base_uri": "https://localhost:8080/",
          "height": 470
        },
        "id": "affected-camcorder",
        "outputId": "eb9629bc-e960-4152-c73a-7e8321945714"
      },
      "outputs": [
        {
          "data": {
            "image/png": "[encoded data removed]",
            "text/plain": [
              "<Figure size 1500x500 with 1 Axes>"
            ]
          },
          "metadata": {},
          "output_type": "display_data"
        }
      ],
      "source": [
        "# bar plot of top countries\n",
        "plt.figure(figsize=(15,5))\n",
        "plt.xticks(rotation=45)\n",
        "plt.title(\"click percentage of top 20 countries\")\n",
        "plt.bar(top_countries_with_clicks[\"country_modified\"], top_countries_with_clicks[\"percentage_of_clicks\"]);"
      ]
    },
    {
      "cell_type": "markdown",
      "id": "encouraging-carpet",
      "metadata": {
        "id": "encouraging-carpet"
      },
      "source": [
        "---\n",
        "\n",
        "Here, we can see that top 4 countries have atleast 0.1 percent of click rate. Sp, you can also further reduce the categories upto 4 and map rest of them as Others. For now, we are going ahead with the 21 categories in the country column.\n",
        "\n",
        "---"
      ]
    },
    {
      "cell_type": "markdown",
      "id": "declared-anthropology",
      "metadata": {
        "id": "declared-anthropology"
      },
      "source": [
        "#### `Number of Clicks for each category of Browser`\n",
        "\n",
        "---"
      ]
    },
    {
      "cell_type": "code",
      "execution_count": null,
      "id": "fifteen-lyric",
      "metadata": {
        "colab": {
          "base_uri": "https://localhost:8080/"
        },
        "id": "fifteen-lyric",
        "outputId": "370183f0-0455-426b-c537-0c5838a8f6a9"
      },
      "outputs": [
        {
          "name": "stdout",
          "output_type": "stream",
          "text": [
            "+----------------+-------------+----------------+\n",
            "|browser_modified|browser_count|number_of_clicks|\n",
            "+----------------+-------------+----------------+\n",
            "|         firefox|         1307|               0|\n",
            "|          chrome|      1349014|             859|\n",
            "|          others|        37662|              12|\n",
            "|          safari|        12012|               3|\n",
            "+----------------+-------------+----------------+\n",
            "\n"
          ]
        }
      ],
      "source": [
        "# number of datapoints with each country\n",
        "top_browsers_with_clicks = train_data.groupBy(\"browser_modified\").agg(F.count(\"browser_modified\").alias(\"browser_count\"),\n",
        "                                                                       F.sum(\"ConversionStatus\").alias(\"number_of_clicks\"))\n",
        "top_browsers_with_clicks.show()"
      ]
    },
    {
      "cell_type": "markdown",
      "id": "virgin-crack",
      "metadata": {
        "id": "virgin-crack"
      },
      "source": [
        "---\n",
        "\n",
        "It is very clear from the above data, that almost 99.9 percent of the clicks are coming from the `chrome` browser So, you also reduce the categories to 2 only, `chrome` and `not chrome`.\n",
        "\n",
        "---"
      ]
    },
    {
      "cell_type": "markdown",
      "id": "electrical-vinyl",
      "metadata": {
        "id": "electrical-vinyl"
      },
      "source": [
        "#### `Number of Clicks for each category of Device`\n",
        "\n",
        "---"
      ]
    },
    {
      "cell_type": "code",
      "execution_count": null,
      "id": "opposite-subsection",
      "metadata": {
        "colab": {
          "base_uri": "https://localhost:8080/"
        },
        "id": "opposite-subsection",
        "outputId": "df0bff6e-f6a1-4f10-b977-11a5c42ab357"
      },
      "outputs": [
        {
          "name": "stdout",
          "output_type": "stream",
          "text": [
            "+---------------+------------+----------------+\n",
            "|device_modified|device_count|number_of_clicks|\n",
            "+---------------+------------+----------------+\n",
            "|              1|      695722|             419|\n",
            "|              0|      704273|             455|\n",
            "+---------------+------------+----------------+\n",
            "\n"
          ]
        }
      ],
      "source": [
        "# number of datapoints with each country\n",
        "top_devices_with_clicks = train_data.groupBy(\"device_modified\").agg(F.count(\"device_modified\").alias(\"device_count\"),\n",
        "                                                                    F.sum(\"ConversionStatus\").alias(\"number_of_clicks\"))\n",
        "top_devices_with_clicks.show()"
      ]
    },
    {
      "cell_type": "markdown",
      "id": "available-provision",
      "metadata": {
        "id": "available-provision"
      },
      "source": [
        "---\n",
        "\n",
        "It is almost the same number of clicks in both the categories.\n",
        "\n",
        "---"
      ]
    },
    {
      "cell_type": "markdown",
      "id": "hydraulic-alexander",
      "metadata": {
        "id": "hydraulic-alexander"
      },
      "source": [
        "### `Number of Clicks for each catefory of OS`\n",
        "\n",
        "---"
      ]
    },
    {
      "cell_type": "code",
      "execution_count": null,
      "id": "eight-parker",
      "metadata": {
        "colab": {
          "base_uri": "https://localhost:8080/"
        },
        "id": "eight-parker",
        "outputId": "ede9d7d5-01bd-49d0-c2b1-06f6ab5cc9a8"
      },
      "outputs": [
        {
          "name": "stdout",
          "output_type": "stream",
          "text": [
            "+-----------+--------+----------------+\n",
            "|modified_os|os_count|number_of_clicks|\n",
            "+-----------+--------+----------------+\n",
            "|     others|   10792|               4|\n",
            "|    Android| 1377744|             868|\n",
            "|        ios|   11459|               2|\n",
            "+-----------+--------+----------------+\n",
            "\n"
          ]
        }
      ],
      "source": [
        "# number of datapoints and clicks for each os\n",
        "top_os_with_clicks = train_data.groupBy(\"modified_os\").agg(F.count(\"modified_os\").alias(\"os_count\"),\n",
        "                                                           F.sum(\"ConversionStatus\").alias(\"number_of_clicks\"))\n",
        "top_os_with_clicks.show()"
      ]
    },
    {
      "cell_type": "markdown",
      "id": "colored-thesis",
      "metadata": {
        "id": "colored-thesis"
      },
      "source": [
        "---\n",
        "\n",
        "We can see that from the above data, that most of the ads clicked from the `Android` os, so we can also reduce the categories to 2 only, `Android` and `Not Android`.\n",
        "\n",
        "---"
      ]
    },
    {
      "cell_type": "markdown",
      "id": "received-leave",
      "metadata": {
        "id": "received-leave"
      },
      "source": [
        "### `Summary of Data Exploration`\n",
        "\n",
        "- Most number of Ads were shown in the country `IN` and highest percentage of Ads were clicked in `RU`.\n",
        "- More than 98 percent of the devices are running on `Android` os."
      ]
    },
    {
      "cell_type": "markdown",
      "id": "convertible-delhi",
      "metadata": {
        "id": "convertible-delhi"
      },
      "source": [
        "---\n",
        "\n",
        "## `Pre-Processing`\n",
        "\n",
        "---\n",
        "\n",
        "- We will fill the Null Values.\n",
        "- We will do label-encoding the categorical variable.\n",
        "- We will do one-hot encoding the categorical variables.\n",
        "\n",
        "\n",
        "---"
      ]
    },
    {
      "cell_type": "markdown",
      "id": "literary-check",
      "metadata": {
        "id": "literary-check"
      },
      "source": [
        "---\n",
        "\n",
        "#### `Fill Null Values`\n",
        "---\n",
        "\n",
        "We will fill the null values with the following values.\n",
        "\n",
        "\n",
        "- **`Country`** with **`IN`**: As most of the Ads were shown in this country.\n",
        "- **`TrafficType`** with **`U`**: `U` means unidentified, we have discussed this in the exploration part.\n",
        "- **`Device`** with **`1`**: `Generic` for 1 as they are unidentified devices.\n",
        "- **`Broswer`** with **`chrome`**: As most of the data points have `chrome` browser.\n",
        "- **`OS`** with **`Android`**: As most of the data points have `Android` OS.\n",
        "- **`total_c_id`** with 0:  As for the new campaigns which comes in future, we have no data.\n",
        "- **`total_p_id`** with 0:  As for the new campaigns which comes in future, we have no data.\n",
        "\n",
        "---"
      ]
    },
    {
      "cell_type": "code",
      "execution_count": null,
      "id": "fitted-glenn",
      "metadata": {
        "id": "fitted-glenn"
      },
      "outputs": [],
      "source": [
        "# fill null values in the train data\n",
        "train_data = train_data.fillna({\n",
        "            \"Fraud\" : 0,\n",
        "            \"country_modified\": \"IN\",\n",
        "            \"TrafficType\" : \"U\",\n",
        "            \"device_modified\": 1,\n",
        "            \"browser_modified\": \"chrome\",\n",
        "            \"modified_os\": \"Android\",\n",
        "            \"total_c_id\" : 0,\n",
        "            \"total_p_id\" : 0\n",
        "        })"
      ]
    },
    {
      "cell_type": "code",
      "execution_count": null,
      "id": "surrounded-confidentiality",
      "metadata": {
        "id": "surrounded-confidentiality"
      },
      "outputs": [],
      "source": [
        "# fill null values in the test data\n",
        "test_data = test_data.fillna({\n",
        "            \"Fraud\" : 0,\n",
        "            \"country_modified\": \"IN\",\n",
        "            \"TrafficType\" : \"U\",\n",
        "            \"device_modified\": 1,\n",
        "            \"browser_modified\": \"chrome\",\n",
        "            \"modified_os\": \"Android\",\n",
        "            \"total_c_id\" : 0,\n",
        "            \"total_p_id\" : 0\n",
        "        })\n",
        "\n",
        "# fill null values in the test data\n",
        "valid_data = valid_data.fillna({\n",
        "            \"Fraud\" : 0,\n",
        "            \"country_modified\": \"IN\",\n",
        "            \"TrafficType\" : \"A\",\n",
        "            \"device_modified\": 1,\n",
        "            \"browser_modified\": \"chrome\",\n",
        "            \"modified_os\": \"Android\",\n",
        "            \"total_c_id\" : 0,\n",
        "            \"total_p_id\" : 0\n",
        "        })"
      ]
    },
    {
      "cell_type": "markdown",
      "id": "light-yugoslavia",
      "metadata": {
        "id": "light-yugoslavia"
      },
      "source": [
        "---\n",
        "\n",
        "#### `Encoding Categorical Variables`\n",
        "\n",
        "Categorical values need to be encoded or converted to numeric form before inputting it to an ML model.\n",
        "\n",
        "Two ways of encoding categorical values:\n",
        "\n",
        "**Label Encoding**\n",
        "\n",
        "   > Assigning a unique integer to each of the categorical values\n",
        "   > Done using StringIndexer\n",
        "\n",
        "![](images/module_12_pre_processing_le.png)\n",
        "\n",
        "\n",
        "\n",
        "**One Hot Encoding**\n",
        "\n",
        "   > New columns created for each of the unique value in categorical column. Values assigned 0 or 1 based on the presence of the data.\n",
        "   > Requires features to be label encoded first.\n",
        "   > Done using OneHotEncoderEstimator\n",
        "    \n",
        "![](images/module_12_pre_processing_ohe.png)\n",
        "\n",
        "\n",
        "----\n",
        "\n",
        "We will do the following encoding of the categorical variables in this notebook.\n",
        "\n",
        " - Country (One Hot Encode)\n",
        " - Traffic (One Hot Encode)\n",
        " - Browser (One Hot Encode)\n",
        " - OS      (One Hot Encode)    \n",
        "\n",
        "    \n",
        "    \n",
        "---"
      ]
    },
    {
      "cell_type": "markdown",
      "id": "robust-damages",
      "metadata": {
        "id": "robust-damages"
      },
      "source": [
        "#### `Importing the Required Libraries`\n",
        "\n",
        "---"
      ]
    },
    {
      "cell_type": "code",
      "execution_count": null,
      "id": "chinese-heather",
      "metadata": {
        "id": "chinese-heather"
      },
      "outputs": [],
      "source": [
        "# importing some more libraries\n",
        "from pyspark.ml.feature import StringIndexer\n",
        "from pyspark.ml.feature import OneHotEncoder\n"
      ]
    },
    {
      "cell_type": "markdown",
      "id": "crude-singing",
      "metadata": {
        "id": "crude-singing"
      },
      "source": [
        "---\n",
        "\n",
        "#### `Creating the StringIndexer Objects`\n",
        "\n",
        "---"
      ]
    },
    {
      "cell_type": "code",
      "execution_count": null,
      "id": "developmental-monkey",
      "metadata": {
        "id": "developmental-monkey"
      },
      "outputs": [],
      "source": [
        "# label encode country\n",
        "SI_Country = StringIndexer(inputCol= \"country_modified\", outputCol= \"country_le\" , handleInvalid=\"skip\")\n",
        "\n",
        "# label encode browser\n",
        "SI_Browser = StringIndexer(inputCol= \"browser_modified\", outputCol= \"browser_le\", handleInvalid= \"skip\")\n",
        "\n",
        "# label encode os\n",
        "SI_OS      = StringIndexer(inputCol= \"modified_os\",      outputCol= \"os_le\", handleInvalid= \"skip\")\n",
        "\n",
        "# label encode traffic\n",
        "SI_Traffic = StringIndexer(inputCol= \"TrafficType\", outputCol= \"traffic_le\", handleInvalid=\"skip\")"
      ]
    },
    {
      "cell_type": "markdown",
      "id": "integral-basket",
      "metadata": {
        "id": "integral-basket"
      },
      "source": [
        "---\n",
        "\n",
        "#### `Fit the StringIndexer Objects`\n",
        "\n",
        "---"
      ]
    },
    {
      "cell_type": "markdown",
      "id": "eqdPcwDQwya7",
      "metadata": {
        "id": "eqdPcwDQwya7"
      },
      "source": [
        "- StringIndexer → Converts categories (strings) to numeric indices.\n",
        "- OneHotEncoder → Converts numeric indices to binary vectors (one-hot encoded format)."
      ]
    },
    {
      "cell_type": "code",
      "execution_count": null,
      "id": "regulation-flashing",
      "metadata": {
        "id": "regulation-flashing"
      },
      "outputs": [],
      "source": [
        "# label encode object country\n",
        "SI_Country_Obj = SI_Country.fit(train_data)\n",
        "\n",
        "# label encode object browser\n",
        "SI_Browser_Obj = SI_Browser.fit(train_data)\n",
        "\n",
        "# label encode object os\n",
        "SI_OS_Obj = SI_OS.fit(train_data)\n",
        "\n",
        "# label encode object traffic\n",
        "SI_Traffic_Obj = SI_Traffic.fit(train_data)"
      ]
    },
    {
      "cell_type": "markdown",
      "id": "colonial-marshall",
      "metadata": {
        "id": "colonial-marshall"
      },
      "source": [
        "---\n",
        "\n",
        "#### `Transform the StringIndexer Objects`\n",
        "\n",
        "----"
      ]
    },
    {
      "cell_type": "code",
      "execution_count": null,
      "id": "cosmetic-listing",
      "metadata": {
        "id": "cosmetic-listing"
      },
      "outputs": [],
      "source": [
        "# label encode country\n",
        "train_data_encoded = SI_Country_Obj.transform(train_data)\n",
        "\n",
        "# label encode browser\n",
        "train_data_encoded = SI_Browser_Obj.transform(train_data_encoded)\n",
        "\n",
        "# label encode os\n",
        "train_data_encoded = SI_OS_Obj.transform(train_data_encoded)\n",
        "\n",
        "# label encode traffic\n",
        "train_data_encoded = SI_Traffic_Obj.transform(train_data_encoded)"
      ]
    },
    {
      "cell_type": "markdown",
      "id": "sublime-workshop",
      "metadata": {
        "id": "sublime-workshop"
      },
      "source": [
        "----\n",
        "\n",
        "#### `Make the Transformation on the test data`\n",
        "\n",
        "---"
      ]
    },
    {
      "cell_type": "code",
      "execution_count": null,
      "id": "dress-meeting",
      "metadata": {
        "id": "dress-meeting"
      },
      "outputs": [],
      "source": [
        "# label encode country\n",
        "\n",
        "# validation data\n",
        "valid_data_encoded = SI_Country_Obj.transform(valid_data)\n",
        "# test data\n",
        "test_data_encoded = SI_Country_Obj.transform(test_data)\n",
        "\n",
        "\n",
        "# label encode browser\n",
        "\n",
        "# validation data\n",
        "valid_data_encoded = SI_Browser_Obj.transform(valid_data_encoded)\n",
        "# test data\n",
        "test_data_encoded = SI_Browser_Obj.transform(test_data_encoded)\n",
        "\n",
        "# label encode os\n",
        "\n",
        "# validation data\n",
        "valid_data_encoded = SI_OS_Obj.transform(valid_data_encoded)\n",
        "# test data\n",
        "test_data_encoded = SI_OS_Obj.transform(test_data_encoded)\n",
        "\n",
        "# label encode traffic\n",
        "\n",
        "# validation data\n",
        "valid_data_encoded = SI_Traffic_Obj.transform(valid_data_encoded)\n",
        "test_data_encoded = SI_Traffic_Obj.transform(test_data_encoded)"
      ]
    },
    {
      "cell_type": "code",
      "execution_count": null,
      "id": "electrical-assembly",
      "metadata": {
        "colab": {
          "base_uri": "https://localhost:8080/"
        },
        "id": "electrical-assembly",
        "outputId": "b3e9d2c0-df53-4d18-e1d5-addba1526841"
      },
      "outputs": [
        {
          "data": {
            "text/plain": [
              "['advertiserCampaignId',\n",
              " 'publisherId',\n",
              " 'ID',\n",
              " 'Country',\n",
              " 'Carrier',\n",
              " 'TrafficType',\n",
              " 'ClickDate',\n",
              " 'Device',\n",
              " 'Browser',\n",
              " 'OS',\n",
              " 'ConversionStatus',\n",
              " 'Fraud',\n",
              " 'country_modified',\n",
              " 'device_modified',\n",
              " 'browser_modified',\n",
              " 'modified_os',\n",
              " 'total_p_id',\n",
              " 'total_c_id',\n",
              " 'country_le',\n",
              " 'browser_le',\n",
              " 'os_le',\n",
              " 'traffic_le']"
            ]
          },
          "execution_count": 79,
          "metadata": {},
          "output_type": "execute_result"
        }
      ],
      "source": [
        "# let's check the columns in the data\n",
        "train_data_encoded.columns"
      ]
    },
    {
      "cell_type": "markdown",
      "id": "amended-stockholm",
      "metadata": {
        "id": "amended-stockholm"
      },
      "source": [
        "---\n",
        "\n",
        "### `ONE-HOT ENCODING`\n",
        "\n",
        "---"
      ]
    },
    {
      "cell_type": "markdown",
      "id": "promising-fundamental",
      "metadata": {
        "id": "promising-fundamental"
      },
      "source": [
        "---\n",
        "\n",
        "Next, we will create the object of the `OneHotEncoderEstimator` and pass the input and output columns list.\n",
        "\n",
        "---"
      ]
    },
    {
      "cell_type": "code",
      "execution_count": null,
      "id": "color-freight",
      "metadata": {
        "id": "color-freight"
      },
      "outputs": [],
      "source": [
        "OHE_train = OneHotEncoder(inputCols=[\"country_le\",\n",
        "                                              \"browser_le\",\n",
        "                                              \"os_le\",\n",
        "                                              \"traffic_le\"],\n",
        "                                  outputCols=[\"country_ohe\",\n",
        "                                              \"browser_ohe\",\n",
        "                                              \"os_ohe\",\n",
        "                                              \"traffic_ohe\"])"
      ]
    },
    {
      "cell_type": "markdown",
      "id": "environmental-sheffield",
      "metadata": {
        "id": "environmental-sheffield"
      },
      "source": [
        "---\n",
        "\n",
        "Fit & Transform the data.\n",
        "\n",
        "---"
      ]
    },
    {
      "cell_type": "code",
      "execution_count": null,
      "id": "simplified-service",
      "metadata": {
        "id": "simplified-service"
      },
      "outputs": [],
      "source": [
        "# OHE object\n",
        "OHE_Obj = OHE_train.fit(train_data_encoded)"
      ]
    },
    {
      "cell_type": "code",
      "execution_count": null,
      "id": "stopped-commonwealth",
      "metadata": {
        "id": "stopped-commonwealth"
      },
      "outputs": [],
      "source": [
        "# Transform train data\n",
        "train_data_encoded = OHE_Obj.transform(train_data_encoded)"
      ]
    },
    {
      "cell_type": "code",
      "execution_count": null,
      "id": "japanese-editing",
      "metadata": {
        "colab": {
          "base_uri": "https://localhost:8080/"
        },
        "id": "japanese-editing",
        "outputId": "dcd03879-b0b1-47a9-d9e7-a06cef4fe7ea"
      },
      "outputs": [
        {
          "name": "stdout",
          "output_type": "stream",
          "text": [
            "+-------+----------------+--------------+----------------+-------------+-----------+-------------+\n",
            "|     ID|country_modified|   country_ohe|browser_modified|  browser_ohe|modified_os|       os_ohe|\n",
            "+-------+----------------+--------------+----------------+-------------+-----------+-------------+\n",
            "| 831606|              IN|(20,[0],[1.0])|          chrome|(3,[0],[1.0])|    Android|(2,[0],[1.0])|\n",
            "|1684960|              IN|(20,[0],[1.0])|          chrome|(3,[0],[1.0])|    Android|(2,[0],[1.0])|\n",
            "|1707464|              IN|(20,[0],[1.0])|          chrome|(3,[0],[1.0])|    Android|(2,[0],[1.0])|\n",
            "| 301735|              IN|(20,[0],[1.0])|          chrome|(3,[0],[1.0])|    Android|(2,[0],[1.0])|\n",
            "|1704995|              IN|(20,[0],[1.0])|          chrome|(3,[0],[1.0])|    Android|(2,[0],[1.0])|\n",
            "|1642510|              IN|(20,[0],[1.0])|          chrome|(3,[0],[1.0])|    Android|(2,[0],[1.0])|\n",
            "|1613598|              IN|(20,[0],[1.0])|          chrome|(3,[0],[1.0])|    Android|(2,[0],[1.0])|\n",
            "| 950030|              IN|(20,[0],[1.0])|          chrome|(3,[0],[1.0])|    Android|(2,[0],[1.0])|\n",
            "|1632656|              IN|(20,[0],[1.0])|          chrome|(3,[0],[1.0])|    Android|(2,[0],[1.0])|\n",
            "|1816037|              IN|(20,[0],[1.0])|          chrome|(3,[0],[1.0])|    Android|(2,[0],[1.0])|\n",
            "|1473379|              IN|(20,[0],[1.0])|          chrome|(3,[0],[1.0])|    Android|(2,[0],[1.0])|\n",
            "| 820189|              IN|(20,[0],[1.0])|          chrome|(3,[0],[1.0])|    Android|(2,[0],[1.0])|\n",
            "|1648418|              IN|(20,[0],[1.0])|          chrome|(3,[0],[1.0])|    Android|(2,[0],[1.0])|\n",
            "|1676459|              IN|(20,[0],[1.0])|          chrome|(3,[0],[1.0])|    Android|(2,[0],[1.0])|\n",
            "|1609521|              IN|(20,[0],[1.0])|          chrome|(3,[0],[1.0])|    Android|(2,[0],[1.0])|\n",
            "|1971467|              IN|(20,[0],[1.0])|          chrome|(3,[0],[1.0])|    Android|(2,[0],[1.0])|\n",
            "|1246923|              IN|(20,[0],[1.0])|          chrome|(3,[0],[1.0])|    Android|(2,[0],[1.0])|\n",
            "|1867772|              IN|(20,[0],[1.0])|          chrome|(3,[0],[1.0])|    Android|(2,[0],[1.0])|\n",
            "|1806288|              IN|(20,[0],[1.0])|          chrome|(3,[0],[1.0])|    Android|(2,[0],[1.0])|\n",
            "|1742383|              IN|(20,[0],[1.0])|          chrome|(3,[0],[1.0])|    Android|(2,[0],[1.0])|\n",
            "+-------+----------------+--------------+----------------+-------------+-----------+-------------+\n",
            "only showing top 20 rows\n",
            "\n"
          ]
        }
      ],
      "source": [
        "# view the one hot encoded data\n",
        "train_data_encoded.select(\"ID\",\n",
        "                          \"country_modified\",\n",
        "                          \"country_ohe\",\n",
        "                          \"browser_modified\",\n",
        "                          \"browser_ohe\",\n",
        "                          \"modified_os\",\n",
        "                          \"os_ohe\").show()"
      ]
    },
    {
      "cell_type": "markdown",
      "id": "D3EV5_aYyivh",
      "metadata": {
        "id": "D3EV5_aYyivh"
      },
      "source": [
        "### Breaking down `country_ohe` → (20, [0], [1.0])\n",
        "\n",
        "- **20** → Total number of categories (distinct countries in `country_modified`).\n",
        "- **[0]** → Index of the active category (`IN` got index 0 from `StringIndexer`).\n",
        "- **[1.0]** → The value at that index is `1.0` (one-hot encoding).\n"
      ]
    },
    {
      "cell_type": "markdown",
      "id": "stone-nigeria",
      "metadata": {
        "id": "stone-nigeria"
      },
      "source": [
        "----\n",
        "\n",
        "#### `Make the transformation on test data`\n",
        "\n",
        "----"
      ]
    },
    {
      "cell_type": "code",
      "execution_count": null,
      "id": "damaged-moisture",
      "metadata": {
        "id": "damaged-moisture"
      },
      "outputs": [],
      "source": [
        "# transform the data\n",
        "\n",
        "# validation data\n",
        "valid_data_encoded = OHE_Obj.transform(valid_data_encoded)\n",
        "# test data\n",
        "test_data_encoded = OHE_Obj.transform(test_data_encoded)"
      ]
    },
    {
      "cell_type": "markdown",
      "id": "rational-receipt",
      "metadata": {
        "id": "rational-receipt"
      },
      "source": [
        "---\n",
        "\n",
        "\n",
        "## `MODEL BUILDING`\n",
        "\n",
        "Now, we have prepared the dataset and it is ready to be trained with Machine Learning models. This is a `Classification Problem`, so we will train the data on the following alogrithms.\n",
        "\n",
        " * **Logistic Regression**\n",
        " * **Decision Tree Classification**\n",
        "\n",
        "\n",
        "\n",
        "---"
      ]
    },
    {
      "cell_type": "markdown",
      "id": "alone-roberts",
      "metadata": {
        "id": "alone-roberts"
      },
      "source": [
        "---\n",
        "\n",
        "#### `VECTOR ASSEMBLER`\n",
        "\n",
        "- Before passing the data into the ML model, we need to convert the required features into a Vector. We can do this using a `VectorAssembler`.\n",
        "---"
      ]
    },
    {
      "cell_type": "code",
      "execution_count": null,
      "id": "threatened-correction",
      "metadata": {
        "colab": {
          "base_uri": "https://localhost:8080/"
        },
        "id": "threatened-correction",
        "outputId": "22d37984-b0b8-4f5c-8f6c-ec3cb091c1ea"
      },
      "outputs": [
        {
          "data": {
            "text/plain": [
              "['advertiserCampaignId',\n",
              " 'publisherId',\n",
              " 'ID',\n",
              " 'Country',\n",
              " 'Carrier',\n",
              " 'TrafficType',\n",
              " 'ClickDate',\n",
              " 'Device',\n",
              " 'Browser',\n",
              " 'OS',\n",
              " 'ConversionStatus',\n",
              " 'Fraud',\n",
              " 'country_modified',\n",
              " 'device_modified',\n",
              " 'browser_modified',\n",
              " 'modified_os',\n",
              " 'total_p_id',\n",
              " 'total_c_id',\n",
              " 'country_le',\n",
              " 'browser_le',\n",
              " 'os_le',\n",
              " 'traffic_le',\n",
              " 'country_ohe',\n",
              " 'browser_ohe',\n",
              " 'os_ohe',\n",
              " 'traffic_ohe']"
            ]
          },
          "execution_count": 87,
          "metadata": {},
          "output_type": "execute_result"
        }
      ],
      "source": [
        "## columns in the dataset\n",
        "train_data_encoded.columns"
      ]
    },
    {
      "cell_type": "markdown",
      "id": "northern-memorabilia",
      "metadata": {
        "id": "northern-memorabilia"
      },
      "source": [
        "---\n",
        "\n",
        "#### `Define the VectorAssembler Object`\n",
        "\n",
        "---"
      ]
    },
    {
      "cell_type": "markdown",
      "id": "rough-stadium",
      "metadata": {
        "id": "rough-stadium"
      },
      "source": [
        "----\n",
        "\n",
        "So, now we will select the features and create a vector using `VectorAssembler`\n",
        "\n",
        " * traffic (One Hot Encoded)\n",
        " * Fraud   (As it is)\n",
        " * total_p_id (Feature Created: Frequency per Publisher id)\n",
        " * total_c_id (Feature Created: Frequency per Campaign Id)\n",
        " * country_ohe (One Hot Encoded)\n",
        " * device_modified (Label Encoded)\n",
        " * browser_ohe (One Hot Encoded)\n",
        " * os_ohe (One Hot Encoded)\n",
        "\n",
        "----"
      ]
    },
    {
      "cell_type": "code",
      "execution_count": null,
      "id": "creative-weather",
      "metadata": {
        "id": "creative-weather"
      },
      "outputs": [],
      "source": [
        "# import the library\n",
        "from pyspark.ml.feature import VectorAssembler\n",
        "\n",
        "# create feature vector\n",
        "feature_vector = VectorAssembler(inputCols= ['traffic_ohe',\n",
        "                                             'Fraud',\n",
        "                                             'total_p_id',\n",
        "                                             'total_c_id',\n",
        "                                             'country_ohe',\n",
        "                                             'device_modified',\n",
        "                                             'browser_ohe',\n",
        "                                             'os_ohe'],\n",
        "                                outputCol= 'feature_vector')"
      ]
    },
    {
      "cell_type": "markdown",
      "id": "religious-plate",
      "metadata": {
        "id": "religious-plate"
      },
      "source": [
        "---\n",
        "\n",
        "`TRANSFORM THE FEATURE VECTOR`\n",
        "\n",
        "----"
      ]
    },
    {
      "cell_type": "code",
      "execution_count": null,
      "id": "lesbian-screw",
      "metadata": {
        "id": "lesbian-screw"
      },
      "outputs": [],
      "source": [
        "# transform the feature vector\n",
        "train_data_encoded = feature_vector.transform(train_data_encoded)"
      ]
    },
    {
      "cell_type": "code",
      "execution_count": null,
      "id": "frequent-combining",
      "metadata": {
        "colab": {
          "base_uri": "https://localhost:8080/"
        },
        "id": "frequent-combining",
        "outputId": "0141cfa9-1765-427d-9681-fffe1161eb7f"
      },
      "outputs": [
        {
          "name": "stdout",
          "output_type": "stream",
          "text": [
            "+--------------------+\n",
            "|      feature_vector|\n",
            "+--------------------+\n",
            "|(31,[0,3,4,5,25,2...|\n",
            "|(31,[0,3,4,5,26,2...|\n",
            "|(31,[0,3,4,5,25,2...|\n",
            "|(31,[0,3,4,5,25,2...|\n",
            "|(31,[0,3,4,5,26,2...|\n",
            "|(31,[0,3,4,5,25,2...|\n",
            "|(31,[0,3,4,5,26,2...|\n",
            "|(31,[0,3,4,5,26,2...|\n",
            "|(31,[0,3,4,5,26,2...|\n",
            "|(31,[0,3,4,5,26,2...|\n",
            "+--------------------+\n",
            "only showing top 10 rows\n",
            "\n"
          ]
        }
      ],
      "source": [
        "# view the feature vector\n",
        "train_data_encoded.select(\"feature_vector\").show(10)"
      ]
    },
    {
      "cell_type": "code",
      "execution_count": null,
      "id": "infrared-transparency",
      "metadata": {
        "colab": {
          "base_uri": "https://localhost:8080/"
        },
        "id": "infrared-transparency",
        "outputId": "462ea392-3ad1-49ea-8dba-b4cd5bf6d8a3"
      },
      "outputs": [
        {
          "name": "stdout",
          "output_type": "stream",
          "text": [
            "root\n",
            " |-- advertiserCampaignId: double (nullable = true)\n",
            " |-- publisherId: string (nullable = true)\n",
            " |-- ID: integer (nullable = true)\n",
            " |-- Country: string (nullable = true)\n",
            " |-- Carrier: double (nullable = true)\n",
            " |-- TrafficType: string (nullable = false)\n",
            " |-- ClickDate: timestamp (nullable = true)\n",
            " |-- Device: string (nullable = true)\n",
            " |-- Browser: string (nullable = true)\n",
            " |-- OS: string (nullable = true)\n",
            " |-- ConversionStatus: integer (nullable = true)\n",
            " |-- Fraud: double (nullable = false)\n",
            " |-- country_modified: string (nullable = false)\n",
            " |-- device_modified: integer (nullable = false)\n",
            " |-- browser_modified: string (nullable = false)\n",
            " |-- modified_os: string (nullable = false)\n",
            " |-- total_p_id: long (nullable = false)\n",
            " |-- total_c_id: long (nullable = false)\n",
            " |-- country_le: double (nullable = false)\n",
            " |-- browser_le: double (nullable = false)\n",
            " |-- os_le: double (nullable = false)\n",
            " |-- traffic_le: double (nullable = false)\n",
            " |-- country_ohe: vector (nullable = true)\n",
            " |-- browser_ohe: vector (nullable = true)\n",
            " |-- os_ohe: vector (nullable = true)\n",
            " |-- traffic_ohe: vector (nullable = true)\n",
            " |-- feature_vector: vector (nullable = true)\n",
            "\n"
          ]
        }
      ],
      "source": [
        "# we can see that the data type of the `feature_vector` is vector\n",
        "train_data_encoded.printSchema()"
      ]
    },
    {
      "cell_type": "markdown",
      "id": "speaking-platform",
      "metadata": {
        "id": "speaking-platform"
      },
      "source": [
        "----\n",
        "\n",
        "#### `Make the transformation on test data.`\n",
        "\n",
        "----"
      ]
    },
    {
      "cell_type": "code",
      "execution_count": null,
      "id": "threatened-chuck",
      "metadata": {
        "id": "threatened-chuck"
      },
      "outputs": [],
      "source": [
        "# transform the feature vector\n",
        "\n",
        "# validation data\n",
        "valid_data_encoded = feature_vector.transform(valid_data_encoded)\n",
        "# test data\n",
        "test_data_encoded = feature_vector.transform(test_data_encoded)"
      ]
    },
    {
      "cell_type": "markdown",
      "id": "surgical-joining",
      "metadata": {
        "id": "surgical-joining"
      },
      "source": [
        "---\n",
        "\n",
        "#### `LOGISTIC REGRESSION`\n",
        "\n",
        "First, we will train the model with the Logistic Regression and see the `AOC-ROC`.\n",
        "\n",
        "For that let's import some more libraries.\n",
        "\n",
        "----"
      ]
    },
    {
      "cell_type": "code",
      "execution_count": null,
      "id": "appreciated-tract",
      "metadata": {
        "id": "appreciated-tract"
      },
      "outputs": [],
      "source": [
        "# importing the libraries\n",
        "from pyspark.ml import classification\n",
        "from pyspark.ml.evaluation import BinaryClassificationEvaluator"
      ]
    },
    {
      "cell_type": "markdown",
      "id": "designed-profit",
      "metadata": {
        "id": "designed-profit"
      },
      "source": [
        "---\n",
        "\n",
        "First we will create the Logistic Regression and pass the `feature vector` and the label column which is `ConversionStatus`\n",
        "\n",
        "---"
      ]
    },
    {
      "cell_type": "code",
      "execution_count": null,
      "id": "collaborative-spring",
      "metadata": {
        "id": "collaborative-spring"
      },
      "outputs": [],
      "source": [
        "model_LR = classification.LogisticRegression(featuresCol='feature_vector', labelCol=\"ConversionStatus\")"
      ]
    },
    {
      "cell_type": "markdown",
      "id": "infinite-smell",
      "metadata": {
        "id": "infinite-smell"
      },
      "source": [
        "---\n",
        "\n",
        "\n",
        "Fit the model\n",
        "\n",
        "---"
      ]
    },
    {
      "cell_type": "code",
      "execution_count": null,
      "id": "timely-stick",
      "metadata": {
        "id": "timely-stick"
      },
      "outputs": [],
      "source": [
        "model_LR = model_LR.fit(train_data_encoded)"
      ]
    },
    {
      "cell_type": "markdown",
      "id": "hindu-competition",
      "metadata": {
        "id": "hindu-competition"
      },
      "source": [
        "---\n",
        "\n",
        "Next, we will use the `BinaryClassificationEvaluator` to calculate the `AUC-ROC score` and for that we have to pass the `labelCol: ConversionStatus` and the `metricName: areaUnderROC`\n",
        "\n",
        "---"
      ]
    },
    {
      "cell_type": "code",
      "execution_count": null,
      "id": "statutory-essex",
      "metadata": {
        "colab": {
          "base_uri": "https://localhost:8080/"
        },
        "id": "statutory-essex",
        "outputId": "3270b36d-487c-4ab8-9dba-8118eff027cc"
      },
      "outputs": [
        {
          "data": {
            "text/plain": [
              "0.7382167947856548"
            ]
          },
          "execution_count": 96,
          "metadata": {},
          "output_type": "execute_result"
        }
      ],
      "source": [
        "# Evaluate training data\n",
        "evaluator = BinaryClassificationEvaluator(labelCol=\"ConversionStatus\", metricName=\"areaUnderROC\")\n",
        "evaluator.evaluate(model_LR.transform(train_data_encoded))"
      ]
    },
    {
      "cell_type": "markdown",
      "id": "funky-banking",
      "metadata": {
        "id": "funky-banking"
      },
      "source": [
        "---\n",
        "\n",
        "So, we got the`ROC`: 0.7377\n",
        "\n",
        "\n",
        "\n",
        "\n",
        "---"
      ]
    },
    {
      "cell_type": "code",
      "execution_count": null,
      "id": "human-binding",
      "metadata": {
        "colab": {
          "base_uri": "https://localhost:8080/"
        },
        "id": "human-binding",
        "outputId": "2e907a4f-908e-4277-88da-ce165df118f3"
      },
      "outputs": [
        {
          "data": {
            "text/plain": [
              "0.6930997051303226"
            ]
          },
          "execution_count": 97,
          "metadata": {},
          "output_type": "execute_result"
        }
      ],
      "source": [
        "# Evaluate validation data\n",
        "evaluator.evaluate(model_LR.transform(valid_data_encoded))"
      ]
    },
    {
      "cell_type": "markdown",
      "id": "positive-montana",
      "metadata": {
        "id": "positive-montana"
      },
      "source": [
        "---\n",
        "\n",
        "#### `DECISION TREE CLASSIFIER`\n",
        "\n",
        "\n",
        "Next, we will train the decision tree classifier model and do the same steps as we did with the logistic regression.\n",
        "\n",
        "---"
      ]
    },
    {
      "cell_type": "code",
      "execution_count": null,
      "id": "matched-shannon",
      "metadata": {
        "id": "matched-shannon"
      },
      "outputs": [],
      "source": [
        "# create object of DecisionTreeClassifier\n",
        "model_DTR = classification.DecisionTreeClassifier(featuresCol= \"feature_vector\",  labelCol=\"ConversionStatus\")"
      ]
    },
    {
      "cell_type": "code",
      "execution_count": null,
      "id": "golden-dylan",
      "metadata": {
        "id": "golden-dylan"
      },
      "outputs": [],
      "source": [
        "# fit the model\n",
        "model_DTR = model_DTR.fit(train_data_encoded)"
      ]
    },
    {
      "cell_type": "code",
      "execution_count": null,
      "id": "electronic-equation",
      "metadata": {
        "colab": {
          "base_uri": "https://localhost:8080/"
        },
        "id": "electronic-equation",
        "outputId": "6a019c61-74dc-4293-cda2-946ab662724c"
      },
      "outputs": [
        {
          "data": {
            "text/plain": [
              "0.5"
            ]
          },
          "execution_count": 100,
          "metadata": {},
          "output_type": "execute_result"
        }
      ],
      "source": [
        "# evaluate the model\n",
        "evaluator.evaluate(model_DTR.transform(train_data_encoded))"
      ]
    },
    {
      "cell_type": "markdown",
      "id": "referenced-works",
      "metadata": {
        "id": "referenced-works"
      },
      "source": [
        "So, the `ROC: 0.5` which means that Logistic Regression was better than Decision Tree.\n",
        "\n",
        "\n",
        "---"
      ]
    },
    {
      "cell_type": "code",
      "execution_count": null,
      "id": "sought-repair",
      "metadata": {
        "colab": {
          "base_uri": "https://localhost:8080/"
        },
        "id": "sought-repair",
        "outputId": "aa589a0f-47ef-43cf-df2f-29cff545ed7b"
      },
      "outputs": [
        {
          "data": {
            "text/plain": [
              "0.5"
            ]
          },
          "execution_count": 101,
          "metadata": {},
          "output_type": "execute_result"
        }
      ],
      "source": [
        "# Evaluate on validation data\n",
        "evaluator.evaluate(model_DTR.transform(valid_data_encoded))"
      ]
    },
    {
      "cell_type": "code",
      "execution_count": null,
      "id": "framed-prison",
      "metadata": {
        "id": "framed-prison"
      },
      "outputs": [],
      "source": []
    },
    {
      "cell_type": "markdown",
      "id": "broad-concrete",
      "metadata": {
        "id": "broad-concrete"
      },
      "source": [
        "----\n",
        "\n",
        "#### `RANDOM FOREST CLASSIFIER`\n",
        "\n",
        "---\n",
        "\n",
        "##### `EXERCISE`\n",
        "\n",
        "----"
      ]
    },
    {
      "cell_type": "code",
      "execution_count": null,
      "id": "nasty-premiere",
      "metadata": {
        "id": "nasty-premiere"
      },
      "outputs": [],
      "source": [
        "# write your code here"
      ]
    },
    {
      "cell_type": "markdown",
      "id": "confident-hierarchy",
      "metadata": {
        "id": "confident-hierarchy"
      },
      "source": [
        "---\n",
        "\n",
        "# `Model Tuning`\n",
        "\n",
        "* **Cross-Validation**\n",
        "* **Grid-Search**\n",
        "\n",
        "---"
      ]
    },
    {
      "cell_type": "markdown",
      "id": "cooperative-nerve",
      "metadata": {
        "id": "cooperative-nerve"
      },
      "source": [
        "---\n",
        "\n",
        "So far, we saw the `Logistic Regression` and `Decision Tree` algorithms. But we were running them using the default parameters only. So, we will tune the parameters of our model and see if it gets any better.\n",
        "\n",
        "First we, will do the cross validation\n",
        "\n",
        "---\n",
        "\n",
        "## `CROSS VALIDATION`\n",
        "\n",
        "\n",
        "\n",
        "\n",
        "Let's see how to do the cross validation.\n",
        "\n",
        "![](images/module_12_tuning_cross_val.png)\n",
        "\n",
        "\n",
        "---"
      ]
    },
    {
      "cell_type": "code",
      "execution_count": null,
      "id": "entitled-atlanta",
      "metadata": {
        "id": "entitled-atlanta"
      },
      "outputs": [],
      "source": [
        "# import the CrossValidator and ParamGridBuilder\n",
        "from pyspark.ml.tuning import CrossValidator, ParamGridBuilder"
      ]
    },
    {
      "cell_type": "code",
      "execution_count": null,
      "id": "monetary-lotus",
      "metadata": {
        "id": "monetary-lotus"
      },
      "outputs": [],
      "source": [
        "# create the ParamGridBuilder\n",
        "params = ParamGridBuilder().build()"
      ]
    },
    {
      "cell_type": "code",
      "execution_count": null,
      "id": "advanced-latin",
      "metadata": {
        "id": "advanced-latin"
      },
      "outputs": [],
      "source": [
        "# create the object of the Logistic Regression Model\n",
        "model_LR_CV = classification.LogisticRegression(featuresCol= \"feature_vector\",  labelCol=\"ConversionStatus\")"
      ]
    },
    {
      "cell_type": "code",
      "execution_count": null,
      "id": "academic-progressive",
      "metadata": {
        "id": "academic-progressive"
      },
      "outputs": [],
      "source": [
        "# create object of the cross validation model with numFolds = 3\n",
        "cv = CrossValidator(estimator=model_LR_CV,\n",
        "                    estimatorParamMaps=params,\n",
        "                    evaluator=evaluator,\n",
        "                    numFolds=3,\n",
        "                    seed=27)"
      ]
    },
    {
      "cell_type": "markdown",
      "id": "included-logic",
      "metadata": {
        "id": "included-logic"
      },
      "source": [
        "---\n",
        "\n",
        "#### `FIT THE MODEL`\n",
        "\n",
        "---"
      ]
    },
    {
      "cell_type": "code",
      "execution_count": null,
      "id": "collective-tokyo",
      "metadata": {
        "colab": {
          "background_save": true
        },
        "id": "collective-tokyo"
      },
      "outputs": [],
      "source": [
        "## fit the model\n",
        "cv_model = cv.fit(train_data_encoded)"
      ]
    },
    {
      "cell_type": "code",
      "execution_count": null,
      "id": "front-maintenance",
      "metadata": {
        "colab": {
          "background_save": true
        },
        "id": "front-maintenance",
        "outputId": "56396a78-ab24-471f-bc4c-6488885c5d70"
      },
      "outputs": [
        {
          "data": {
            "text/plain": [
              "0.7381774623101583"
            ]
          },
          "execution_count": 107,
          "metadata": {},
          "output_type": "execute_result"
        }
      ],
      "source": [
        "# evaluate the model\n",
        "evaluator = BinaryClassificationEvaluator(labelCol=\"ConversionStatus\",metricName=\"areaUnderROC\")\n",
        "evaluator.evaluate(cv_model.transform(train_data_encoded))"
      ]
    },
    {
      "cell_type": "code",
      "execution_count": null,
      "id": "hired-pulse",
      "metadata": {
        "colab": {
          "background_save": true
        },
        "id": "hired-pulse",
        "outputId": "e37593ab-a4e2-4974-ca35-fdb7e44de89f"
      },
      "outputs": [
        {
          "data": {
            "text/plain": [
              "0.6930997051303226"
            ]
          },
          "execution_count": 108,
          "metadata": {},
          "output_type": "execute_result"
        }
      ],
      "source": [
        "# evaluate model on validation data\n",
        "evaluator.evaluate(cv_model.transform(valid_data_encoded))"
      ]
    },
    {
      "cell_type": "markdown",
      "id": "automated-ultimate",
      "metadata": {
        "id": "automated-ultimate"
      },
      "source": [
        "---\n",
        "\n",
        "\n",
        "## `GRID SEARCH`\n",
        "\n",
        "Next, we will try the Grid Search where it will apply different combinations of parameter to give you the best model.\n",
        "\n",
        "---\n",
        "\n",
        "![](images/module_12_tuning_grid_search.png)\n",
        "\n",
        "---"
      ]
    },
    {
      "cell_type": "code",
      "execution_count": null,
      "id": "thermal-amino",
      "metadata": {
        "colab": {
          "background_save": true
        },
        "id": "thermal-amino"
      },
      "outputs": [],
      "source": [
        "# create parameter builder\n",
        "\n",
        "updated_params = ParamGridBuilder() \\\n",
        "                .addGrid(model_LR_CV.regParam, [0.01, 0.005, 0.0001]) \\\n",
        "                .addGrid(model_LR_CV.elasticNetParam, [0.1, 0.001]) \\\n",
        "                .build()"
      ]
    },
    {
      "cell_type": "code",
      "execution_count": null,
      "id": "aging-charity",
      "metadata": {
        "colab": {
          "background_save": true
        },
        "id": "aging-charity"
      },
      "outputs": [],
      "source": [
        "# create object of the Cross Calidator with 3 folds\n",
        "cv = CrossValidator(estimator=model_LR_CV,\n",
        "                    estimatorParamMaps=updated_params,\n",
        "                    evaluator=evaluator,\n",
        "                    numFolds=3,\n",
        "                    seed=27)"
      ]
    },
    {
      "cell_type": "code",
      "execution_count": null,
      "id": "separated-relay",
      "metadata": {
        "colab": {
          "background_save": true
        },
        "id": "separated-relay"
      },
      "outputs": [],
      "source": [
        "# fit the model\n",
        "grid_model = cv.fit(train_data_encoded)"
      ]
    },
    {
      "cell_type": "code",
      "execution_count": null,
      "id": "increasing-luther",
      "metadata": {
        "colab": {
          "background_save": true
        },
        "id": "increasing-luther",
        "outputId": "6500896b-3614-4f3c-a6bc-679bbb7c6c80"
      },
      "outputs": [
        {
          "data": {
            "text/plain": [
              "0.7358214186511873"
            ]
          },
          "execution_count": 112,
          "metadata": {},
          "output_type": "execute_result"
        }
      ],
      "source": [
        "# evaluate the model\n",
        "evaluator = BinaryClassificationEvaluator(labelCol=\"ConversionStatus\",metricName=\"areaUnderROC\")\n",
        "evaluator.evaluate(grid_model.transform(train_data_encoded))"
      ]
    },
    {
      "cell_type": "code",
      "execution_count": null,
      "id": "portuguese-nicholas",
      "metadata": {
        "colab": {
          "background_save": true
        },
        "id": "portuguese-nicholas",
        "outputId": "744203ae-0467-4baf-89af-1116d4429ce2"
      },
      "outputs": [
        {
          "data": {
            "text/plain": [
              "0.6923254322898522"
            ]
          },
          "execution_count": 113,
          "metadata": {},
          "output_type": "execute_result"
        }
      ],
      "source": [
        "# evaluate model on validation data\n",
        "evaluator.evaluate(grid_model.transform(valid_data_encoded))"
      ]
    },
    {
      "cell_type": "markdown",
      "id": "neither-keyboard",
      "metadata": {
        "id": "neither-keyboard"
      },
      "source": [
        "---\n",
        "\n",
        "Get the best model parameters.\n",
        "\n",
        "---"
      ]
    },
    {
      "cell_type": "code",
      "execution_count": null,
      "id": "freelance-empty",
      "metadata": {
        "colab": {
          "background_save": true
        },
        "id": "freelance-empty"
      },
      "outputs": [],
      "source": [
        "# extract the best model parameters dictionary\n",
        "param_dict = grid_model.bestModel.extractParamMap()"
      ]
    },
    {
      "cell_type": "code",
      "execution_count": null,
      "id": "indie-lighting",
      "metadata": {
        "colab": {
          "background_save": true
        },
        "id": "indie-lighting",
        "outputId": "1f952f41-4874-4c66-b9cf-5cf91d5ec006"
      },
      "outputs": [
        {
          "data": {
            "text/plain": [
              "{Param(parent='LogisticRegression_23f47e8e0e58', name='aggregationDepth', doc='suggested depth for treeAggregate (>= 2).'): 2,\n",
              " Param(parent='LogisticRegression_23f47e8e0e58', name='elasticNetParam', doc='the ElasticNet mixing parameter, in range [0, 1]. For alpha = 0, the penalty is an L2 penalty. For alpha = 1, it is an L1 penalty.'): 0.1,\n",
              " Param(parent='LogisticRegression_23f47e8e0e58', name='family', doc='The name of family which is a description of the label distribution to be used in the model. Supported options: auto, binomial, multinomial'): 'auto',\n",
              " Param(parent='LogisticRegression_23f47e8e0e58', name='featuresCol', doc='features column name.'): 'feature_vector',\n",
              " Param(parent='LogisticRegression_23f47e8e0e58', name='fitIntercept', doc='whether to fit an intercept term.'): True,\n",
              " Param(parent='LogisticRegression_23f47e8e0e58', name='labelCol', doc='label column name.'): 'ConversionStatus',\n",
              " Param(parent='LogisticRegression_23f47e8e0e58', name='maxBlockSizeInMB', doc='maximum memory in MB for stacking input data into blocks. Data is stacked within partitions. If more than remaining data size in a partition then it is adjusted to the data size. Default 0.0 represents choosing optimal value, depends on specific algorithm. Must be >= 0.'): 0.0,\n",
              " Param(parent='LogisticRegression_23f47e8e0e58', name='maxIter', doc='max number of iterations (>= 0).'): 100,\n",
              " Param(parent='LogisticRegression_23f47e8e0e58', name='predictionCol', doc='prediction column name.'): 'prediction',\n",
              " Param(parent='LogisticRegression_23f47e8e0e58', name='probabilityCol', doc='Column name for predicted class conditional probabilities. Note: Not all models output well-calibrated probability estimates! These probabilities should be treated as confidences, not precise probabilities.'): 'probability',\n",
              " Param(parent='LogisticRegression_23f47e8e0e58', name='rawPredictionCol', doc='raw prediction (a.k.a. confidence) column name.'): 'rawPrediction',\n",
              " Param(parent='LogisticRegression_23f47e8e0e58', name='regParam', doc='regularization parameter (>= 0).'): 0.0001,\n",
              " Param(parent='LogisticRegression_23f47e8e0e58', name='standardization', doc='whether to standardize the training features before fitting the model.'): True,\n",
              " Param(parent='LogisticRegression_23f47e8e0e58', name='threshold', doc='Threshold in binary classification prediction, in range [0, 1]. If threshold and thresholds are both set, they must match.e.g. if threshold is p, then thresholds must be equal to [1-p, p].'): 0.5,\n",
              " Param(parent='LogisticRegression_23f47e8e0e58', name='tol', doc='the convergence tolerance for iterative algorithms (>= 0).'): 1e-06}"
            ]
          },
          "execution_count": 115,
          "metadata": {},
          "output_type": "execute_result"
        }
      ],
      "source": [
        "param_dict"
      ]
    },
    {
      "cell_type": "code",
      "execution_count": null,
      "id": "arbitrary-small",
      "metadata": {
        "colab": {
          "background_save": true
        },
        "id": "arbitrary-small"
      },
      "outputs": [],
      "source": [
        "# created a filtered dictionary\n",
        "final_dict = {}\n",
        "for k, v in param_dict.items():\n",
        "    final_dict[k.name] = v"
      ]
    },
    {
      "cell_type": "code",
      "execution_count": null,
      "id": "fabulous-feature",
      "metadata": {
        "colab": {
          "background_save": true
        },
        "id": "fabulous-feature",
        "outputId": "b9a891ef-aa18-419e-d9cd-2256529e1aaf"
      },
      "outputs": [
        {
          "data": {
            "text/plain": [
              "0.1"
            ]
          },
          "execution_count": 117,
          "metadata": {},
          "output_type": "execute_result"
        }
      ],
      "source": [
        "# get the best elastic net parameter\n",
        "final_dict[\"elasticNetParam\"]"
      ]
    },
    {
      "cell_type": "code",
      "execution_count": null,
      "id": "sonic-vocabulary",
      "metadata": {
        "colab": {
          "background_save": true
        },
        "id": "sonic-vocabulary",
        "outputId": "7b1b1055-7332-486c-f915-471617f7a79f"
      },
      "outputs": [
        {
          "data": {
            "text/plain": [
              "0.0001"
            ]
          },
          "execution_count": 118,
          "metadata": {},
          "output_type": "execute_result"
        }
      ],
      "source": [
        "# get the best regularization parameter\n",
        "final_dict[\"regParam\"]"
      ]
    },
    {
      "cell_type": "markdown",
      "id": "worst-arthur",
      "metadata": {
        "id": "worst-arthur"
      },
      "source": [
        "\n",
        "----\n",
        "----\n",
        "\n",
        "\n",
        "### `Machine Learning Pipelines in Spark`\n",
        "\n",
        "----\n",
        "\n",
        "\n",
        " *   `Transformer`\n",
        " > - It transforms the input data (X) in some ways.\n",
        " > - Implements a method `transform()`, which converts one DataFrame into another, generally by appending one or more columns.\n",
        " > - It includes `feature transformers` and `learned models`.\n",
        " > > - `Feature transformer` should take a DataFrame, read a column (e.g., text), map it into a new column (e.g., feature vectors), and output a new DataFrame with the mapped column appended.\n",
        " > > -  `Learning model` should take a DataFrame, read the column containing feature vectors, predict the label for each feature vector, and output a new DataFrame with predicted labels appended as a column.\n",
        " *   `Estimator`\n",
        " > - It predicts a new value (or values) (y) by using the input data (X).\n",
        " > - It implements a method `fit()`, which accepts a DataFrame and produces a `Model`, which is a `Transformer`.\n",
        " > > - For example, a learning algorithm such as `LogisticRegression` is an `Estimator`, and calling `fit()` trains a `LogisticRegressionModel`, which is a `Model` and hence a `Transformer`.\n",
        " * `Pipeline`\n",
        " > - It represents a sequence of steps to apply in an ML workflow. Example:\n",
        " > > - Stage 1 : Split text into words.\n",
        " > > - Stage 2 : Convert words into numeric data.\n",
        " > > - Stage 3 : Apply machine learning model on the numeric data.\n",
        " > - These steps are represented as `Transformers` or as `Estimators`.\n",
        " > - A `Pipeline` is comprised of `Stages`.\n",
        " > > - These stages are run in order.\n",
        " > > - The input DataFrame is transformed as it passes through each stage.\n",
        " > > - Each stage is either a `Transformer` or an `Estimator`.\n",
        "\n",
        " ---\n",
        "\n",
        "**`Import the Required Libraries`**\n",
        "\n",
        " ---"
      ]
    },
    {
      "cell_type": "code",
      "execution_count": null,
      "id": "becoming-priority",
      "metadata": {
        "colab": {
          "background_save": true
        },
        "id": "becoming-priority",
        "outputId": "c50326c4-4e26-428e-b5b5-9526686f0703"
      },
      "outputs": [
        {
          "ename": "ImportError",
          "evalue": "cannot import name 'OneHotEncoderEstimator' from 'pyspark.ml.feature' (/usr/local/lib/python3.11/dist-packages/pyspark/ml/feature.py)",
          "output_type": "error",
          "traceback": [
            "\u001b[0;31m---------------------------------------------------------------------------\u001b[0m",
            "\u001b[0;31mImportError\u001b[0m                               Traceback (most recent call last)",
            "\u001b[0;32m<ipython-input-119-c6baff8e33d9>\u001b[0m in \u001b[0;36m<cell line: 0>\u001b[0;34m()\u001b[0m\n\u001b[1;32m      1\u001b[0m \u001b[0;31m## Import the Required Libraries\u001b[0m\u001b[0;34m\u001b[0m\u001b[0;34m\u001b[0m\u001b[0m\n\u001b[1;32m      2\u001b[0m \u001b[0;32mfrom\u001b[0m \u001b[0mpyspark\u001b[0m\u001b[0;34m.\u001b[0m\u001b[0mml\u001b[0m \u001b[0;32mimport\u001b[0m \u001b[0mPipeline\u001b[0m\u001b[0;34m\u001b[0m\u001b[0;34m\u001b[0m\u001b[0m\n\u001b[0;32m----> 3\u001b[0;31m \u001b[0;32mfrom\u001b[0m \u001b[0mpyspark\u001b[0m\u001b[0;34m.\u001b[0m\u001b[0mml\u001b[0m\u001b[0;34m.\u001b[0m\u001b[0mfeature\u001b[0m \u001b[0;32mimport\u001b[0m \u001b[0mOneHotEncoderEstimator\u001b[0m\u001b[0;34m,\u001b[0m \u001b[0mStringIndexer\u001b[0m\u001b[0;34m,\u001b[0m \u001b[0mVectorAssembler\u001b[0m\u001b[0;34m\u001b[0m\u001b[0;34m\u001b[0m\u001b[0m\n\u001b[0m\u001b[1;32m      4\u001b[0m \u001b[0;32mfrom\u001b[0m \u001b[0mpyspark\u001b[0m\u001b[0;34m.\u001b[0m\u001b[0mml\u001b[0m \u001b[0;32mimport\u001b[0m \u001b[0mTransformer\u001b[0m\u001b[0;34m\u001b[0m\u001b[0;34m\u001b[0m\u001b[0m\n\u001b[1;32m      5\u001b[0m \u001b[0;32mfrom\u001b[0m \u001b[0mpyspark\u001b[0m\u001b[0;34m.\u001b[0m\u001b[0mml\u001b[0m\u001b[0;34m.\u001b[0m\u001b[0mparam\u001b[0m\u001b[0;34m.\u001b[0m\u001b[0mshared\u001b[0m \u001b[0;32mimport\u001b[0m \u001b[0mHasInputCol\u001b[0m\u001b[0;34m,\u001b[0m \u001b[0mHasOutputCol\u001b[0m\u001b[0;34m,\u001b[0m \u001b[0mParam\u001b[0m\u001b[0;34m\u001b[0m\u001b[0;34m\u001b[0m\u001b[0m\n",
            "\u001b[0;31mImportError\u001b[0m: cannot import name 'OneHotEncoderEstimator' from 'pyspark.ml.feature' (/usr/local/lib/python3.11/dist-packages/pyspark/ml/feature.py)",
            "",
            "\u001b[0;31m---------------------------------------------------------------------------\u001b[0;32m\nNOTE: If your import is failing due to a missing package, you can\nmanually install dependencies using either !pip or !apt.\n\nTo view examples of installing some common dependencies, click the\n\"Open Examples\" button below.\n\u001b[0;31m---------------------------------------------------------------------------\u001b[0m\n"
          ]
        }
      ],
      "source": [
        "## Import the Required Libraries\n",
        "from pyspark.ml import Pipeline\n",
        "from pyspark.ml.feature import OneHotEncoderEstimator, StringIndexer, VectorAssembler\n",
        "from pyspark.ml import Transformer\n",
        "from pyspark.ml.param.shared import HasInputCol, HasOutputCol, Param\n",
        "from pyspark.ml import classification"
      ]
    },
    {
      "cell_type": "markdown",
      "id": "detected-telephone",
      "metadata": {
        "id": "detected-telephone"
      },
      "source": [
        "---\n",
        "#### **`Creating a Sample Dataframe`**\n",
        "\n",
        "---"
      ]
    },
    {
      "cell_type": "code",
      "execution_count": null,
      "id": "indoor-hopkins",
      "metadata": {
        "colab": {
          "background_save": true
        },
        "id": "indoor-hopkins"
      },
      "outputs": [],
      "source": [
        "# Create a sample dataframe\n",
        "sample_df = spark.createDataFrame([\n",
        "                                    (1, 'L101', 'R'),\n",
        "                                    (2, 'L201', 'C'),\n",
        "                                    (3, 'D111', 'R'),\n",
        "                                    (4, 'F210', 'R'),\n",
        "                                    (5, 'D110', 'C')\n",
        "                                ],\n",
        "                                ['id', 'category_1', 'category_2'])"
      ]
    },
    {
      "cell_type": "code",
      "execution_count": null,
      "id": "comparative-yeast",
      "metadata": {
        "colab": {
          "background_save": true
        },
        "id": "comparative-yeast"
      },
      "outputs": [],
      "source": [
        "# Display dataset\n",
        "sample_df.show()"
      ]
    },
    {
      "cell_type": "markdown",
      "id": "sophisticated-turtle",
      "metadata": {
        "id": "sophisticated-turtle"
      },
      "source": [
        "---\n",
        "\n",
        "#### **`Defining the different Stages of the Pipeline`**\n",
        "\n",
        "---\n",
        "\n",
        "We have created the dataframe. Suppose we have to transform the data in the below order:\n",
        "\n",
        "   * **stage_1:** Label Encode or String Index the column category_1\n",
        "   * **stage_2:** Label Encode or String Index the column category_2\n",
        "   * **stage_3:** One-Hot Encode the indexed column category_2\n",
        "   \n",
        "---   \n",
        "   \n",
        "![](images/pipeline_sample.png)\n",
        "\n",
        "\n",
        "---"
      ]
    },
    {
      "cell_type": "code",
      "execution_count": null,
      "id": "english-slope",
      "metadata": {
        "colab": {
          "background_save": true
        },
        "id": "english-slope"
      },
      "outputs": [],
      "source": [
        "# Define stage 1 : Label Encode category_1\n",
        "stage_1 = StringIndexer(inputCol= 'category_1', outputCol= 'category_1_index')\n",
        "\n",
        "# Define stage 2 : Label Encode category_2\n",
        "stage_2 = StringIndexer(inputCol= 'category_2', outputCol= 'category_2_index')\n",
        "\n",
        "# Define stage 3 : One-Hot Encode label encoded category_2\n",
        "stage_3 = OneHotEncoderEstimator(inputCols= ['category_2_index'], outputCols= ['category_2_OHE'])"
      ]
    },
    {
      "cell_type": "markdown",
      "id": "average-johnston",
      "metadata": {
        "id": "average-johnston"
      },
      "source": [
        "---\n",
        "#### **Defining the Pipeline**\n",
        "\n",
        "All stages to be applied are listed in the Pipeline object.\n",
        "\n",
        "---"
      ]
    },
    {
      "cell_type": "code",
      "execution_count": null,
      "id": "amino-canyon",
      "metadata": {
        "colab": {
          "background_save": true
        },
        "id": "amino-canyon"
      },
      "outputs": [],
      "source": [
        "# Setup the pipeline object with the three stages\n",
        "pipeline = Pipeline(stages=[stage_1, stage_2, stage_3])"
      ]
    },
    {
      "cell_type": "markdown",
      "id": "widespread-strain",
      "metadata": {
        "id": "widespread-strain"
      },
      "source": [
        "----\n",
        "\n",
        "#### **`Fit` and `Transform` the Pipeline**\n",
        "\n",
        "---"
      ]
    },
    {
      "cell_type": "code",
      "execution_count": null,
      "id": "hundred-dominant",
      "metadata": {
        "colab": {
          "background_save": true
        },
        "id": "hundred-dominant"
      },
      "outputs": [],
      "source": [
        "# Fit the Pipeline model on the dataframe\n",
        "pipeline_model = pipeline.fit(sample_df)"
      ]
    },
    {
      "cell_type": "code",
      "execution_count": null,
      "id": "configured-prescription",
      "metadata": {
        "colab": {
          "background_save": true
        },
        "id": "configured-prescription"
      },
      "outputs": [],
      "source": [
        "# Transform the dataframe\n",
        "sample_df_updated = pipeline_model.transform(sample_df)"
      ]
    },
    {
      "cell_type": "code",
      "execution_count": null,
      "id": "developmental-pierce",
      "metadata": {
        "colab": {
          "background_save": true
        },
        "id": "developmental-pierce"
      },
      "outputs": [],
      "source": [
        "# View the transformed data\n",
        "sample_df_updated.show()"
      ]
    },
    {
      "cell_type": "markdown",
      "id": "charitable-adrian",
      "metadata": {
        "id": "charitable-adrian"
      },
      "source": [
        "---\n",
        "\n",
        "\n",
        "We have three new columns containing output from the three stages."
      ]
    },
    {
      "cell_type": "markdown",
      "id": "noticed-height",
      "metadata": {
        "id": "noticed-height"
      },
      "source": [
        "---\n",
        "#### **Creating Custom Transformer**\n",
        "\n",
        "We can also create custom transformers to accomplish tasks that are not present in Spark ML by default. For example, we can create a custom transformer for replacing `null` values in the dataframe."
      ]
    },
    {
      "cell_type": "markdown",
      "id": "functioning-simple",
      "metadata": {
        "id": "functioning-simple"
      },
      "source": [
        "Let's create a sample dataframe with some `null` values.\n",
        "\n",
        "---"
      ]
    },
    {
      "cell_type": "code",
      "execution_count": null,
      "id": "environmental-walter",
      "metadata": {
        "colab": {
          "background_save": true
        },
        "id": "environmental-walter"
      },
      "outputs": [],
      "source": [
        "# Create a sample dataframe\n",
        "sample_df = spark.createDataFrame([\n",
        "                                    (1, 'L101', None),\n",
        "                                    (2, 'L201', 'C'),\n",
        "                                    (3, 'D330', None),\n",
        "                                    (4, 'F212', None),\n",
        "                                    (5, 'D110', 'C')\n",
        "                                  ], ['id', 'category_1', 'category_2'])"
      ]
    },
    {
      "cell_type": "code",
      "execution_count": null,
      "id": "simplified-mirror",
      "metadata": {
        "colab": {
          "background_save": true
        },
        "id": "simplified-mirror",
        "scrolled": true
      },
      "outputs": [],
      "source": [
        "# View dataframe\n",
        "sample_df.show()"
      ]
    },
    {
      "cell_type": "markdown",
      "id": "champion-hobby",
      "metadata": {
        "id": "champion-hobby"
      },
      "source": [
        "**Define the custom transformer class to do the following:**\n",
        "- Replace null values with provided values."
      ]
    },
    {
      "cell_type": "code",
      "execution_count": null,
      "id": "still-masters",
      "metadata": {
        "colab": {
          "background_save": true
        },
        "id": "still-masters"
      },
      "outputs": [],
      "source": [
        "# Custom transformer class\n",
        "# Inherit Transformer, HasInputCol parent classes\n",
        "class customTransformer(Transformer, HasInputCol):\n",
        "\n",
        "    # Class constructor\n",
        "    def __init__(self, inputCol= None, fill_with = None):\n",
        "\n",
        "        # input columns\n",
        "        self.inputCol  = inputCol\n",
        "\n",
        "        # null value replacements\n",
        "        self.fill_with = fill_with\n",
        "\n",
        "\n",
        "    # Define custom transformer\n",
        "    def _transform(self, dataset):\n",
        "\n",
        "        # Replace null values in the passed dataframe\n",
        "        dataset = dataset.fillna({self.inputCol : self.fill_with})\n",
        "\n",
        "        return dataset"
      ]
    },
    {
      "cell_type": "markdown",
      "id": "appointed-clothing",
      "metadata": {
        "id": "appointed-clothing"
      },
      "source": [
        "Now that we have created a custom transformer, we can apply this transformer to"
      ]
    },
    {
      "cell_type": "code",
      "execution_count": null,
      "id": "interesting-briefing",
      "metadata": {
        "colab": {
          "background_save": true
        },
        "id": "interesting-briefing"
      },
      "outputs": [],
      "source": [
        "# Define custom trasnformer object\n",
        "s1 = customTransformer(inputCol= \"category_2\",\n",
        "                       fill_with= \"A\")"
      ]
    },
    {
      "cell_type": "code",
      "execution_count": null,
      "id": "indie-place",
      "metadata": {
        "colab": {
          "background_save": true
        },
        "id": "indie-place"
      },
      "outputs": [],
      "source": [
        "# Create pipeline object with the custom trasnformer stage\n",
        "p = Pipeline(stages=[s1])"
      ]
    },
    {
      "cell_type": "code",
      "execution_count": null,
      "id": "qualified-jacob",
      "metadata": {
        "colab": {
          "background_save": true
        },
        "id": "qualified-jacob"
      },
      "outputs": [],
      "source": [
        "# Fit pipeline on the dataframe\n",
        "custom_pipeline = p.fit(sample_df)"
      ]
    },
    {
      "cell_type": "code",
      "execution_count": null,
      "id": "pacific-break",
      "metadata": {
        "colab": {
          "background_save": true
        },
        "id": "pacific-break"
      },
      "outputs": [],
      "source": [
        "# View updated dataframe\n",
        "transformed_df = custom_pipeline.transform(sample_df)"
      ]
    },
    {
      "cell_type": "code",
      "execution_count": null,
      "id": "widespread-awareness",
      "metadata": {
        "colab": {
          "background_save": true
        },
        "id": "widespread-awareness"
      },
      "outputs": [],
      "source": [
        "transformed_df.show()"
      ]
    },
    {
      "cell_type": "markdown",
      "id": "analyzed-september",
      "metadata": {
        "id": "analyzed-september"
      },
      "source": [
        "- `null` values in `category_2` column have been replaced with `A`.\n",
        "- New column `transformed` has been formed with the numeric mappings."
      ]
    },
    {
      "cell_type": "code",
      "execution_count": null,
      "id": "atmospheric-wings",
      "metadata": {
        "colab": {
          "background_save": true
        },
        "id": "atmospheric-wings"
      },
      "outputs": [],
      "source": []
    },
    {
      "cell_type": "code",
      "execution_count": null,
      "id": "starting-midwest",
      "metadata": {
        "id": "starting-midwest"
      },
      "outputs": [],
      "source": []
    },
    {
      "cell_type": "code",
      "execution_count": null,
      "id": "verbal-establishment",
      "metadata": {
        "id": "verbal-establishment"
      },
      "outputs": [],
      "source": []
    },
    {
      "cell_type": "code",
      "execution_count": null,
      "id": "attractive-commander",
      "metadata": {
        "id": "attractive-commander"
      },
      "outputs": [],
      "source": []
    },
    {
      "cell_type": "code",
      "execution_count": null,
      "id": "according-clearance",
      "metadata": {
        "id": "according-clearance"
      },
      "outputs": [],
      "source": []
    },
    {
      "cell_type": "code",
      "execution_count": null,
      "id": "norwegian-freight",
      "metadata": {
        "id": "norwegian-freight"
      },
      "outputs": [],
      "source": []
    },
    {
      "cell_type": "markdown",
      "id": "orange-cabin",
      "metadata": {
        "id": "orange-cabin"
      },
      "source": [
        "---\n",
        "\n",
        "## `Click Prediction - Pipelines`\n",
        "\n",
        "---"
      ]
    },
    {
      "cell_type": "markdown",
      "id": "elder-commerce",
      "metadata": {
        "id": "elder-commerce"
      },
      "source": [
        "---\n",
        "\n",
        "#### `LOAD THE DATASET`\n",
        "\n",
        "---"
      ]
    },
    {
      "cell_type": "code",
      "execution_count": null,
      "id": "comic-mongolia",
      "metadata": {
        "colab": {
          "background_save": true
        },
        "id": "comic-mongolia"
      },
      "outputs": [],
      "source": [
        "train_data_pipeline = spark.read.csv(\"Spark_ML_Project/dataset/train.csv\", inferSchema=True, header=True)\n",
        "valid_data_pipeline =  spark.read.csv(\"Spark_ML_Project/dataset/valid.csv\", inferSchema=True, header=True)\n",
        "test_data_pipeline = spark.read.csv(\"Spark_ML_Project/dataset/test.csv\", inferSchema=True, header=True)"
      ]
    },
    {
      "cell_type": "code",
      "execution_count": null,
      "id": "encouraging-arnold",
      "metadata": {
        "colab": {
          "background_save": true
        },
        "id": "encouraging-arnold"
      },
      "outputs": [],
      "source": [
        "train_data_pipeline = train_data_pipeline.withColumn(\"ConversionStatus\", F.col(\"ConversionStatus\").cast(tp.IntegerType()))"
      ]
    },
    {
      "cell_type": "markdown",
      "id": "expired-japan",
      "metadata": {
        "id": "expired-japan"
      },
      "source": [
        "---\n",
        "### `Define the stages of the Pipeline`\n",
        "\n",
        "  * **STAGE 1**: [Transformer] Fill null values with in each column\n",
        "  * **STAGE 2**: [Transformer] Reduce Category\n",
        "  * **STAGE 3**: [Estimator] Label Encode: Traffic\n",
        "  * **STAGE 4**: [Estimator] Label Encode: Country\n",
        "  * **STAGE 5**: [Estimator] Label Encode: Browser\n",
        "  * **STAGE 6**: [Estimator] Label Encode: OS\n",
        "  * **STAGE 7**: [Estimator] OHE: Country, Browser, OS\n",
        "  * **STAGE 8**: [Transformer] Create Feature: Total Click per Publisher ID, Total Click per Campaign ID\n",
        "  * **STAGE 9**: Transformer] Create Vector [ Traffic (LE), Fraud, Average_Click per Puplisher ID, Average Click per Campaign ID, Country (OHE), Browser (OHE), Device (OHE), OS (OHE)]\n",
        "  * **STAGE 10**: [Estimator] Predict Labels Using the Logistic Regression\n",
        "\n",
        "\n",
        "\n"
      ]
    },
    {
      "cell_type": "markdown",
      "id": "demanding-folks",
      "metadata": {
        "id": "demanding-folks"
      },
      "source": [
        "---\n",
        "#### **`Define Custom Transformers`**\n",
        "\n",
        "* Custom transformer to fill null values\n",
        "* Custom transformer to reduce categories\n",
        "* Custom transformer to create features\n",
        "\n",
        "----\n",
        "#### `Custom Transformer to fill Null Values`\n",
        "\n",
        "* Fill null value with mode from respective column.\n",
        "---"
      ]
    },
    {
      "cell_type": "code",
      "execution_count": null,
      "id": "mighty-manchester",
      "metadata": {
        "colab": {
          "background_save": true
        },
        "id": "mighty-manchester"
      },
      "outputs": [],
      "source": [
        "# custom transformer to fill null values\n",
        "\n",
        "class nullValuesTransformer(Transformer):\n",
        "\n",
        "    def __init__(self, dataframe = None):\n",
        "        self.dataframe = dataframe\n",
        "\n",
        "    def _transform(self, dataframe):\n",
        "        dataframe = dataframe.fillna({\n",
        "            \"Fraud\" : 0,\n",
        "            \"Country\": \"IN\",\n",
        "            \"TrafficType\" : \"U\",\n",
        "            \"Device\": \"Generic\",\n",
        "            \"Browser\": \"chrome\",\n",
        "            \"OS\": \"Android\",\n",
        "        })\n",
        "\n",
        "        return dataframe"
      ]
    },
    {
      "cell_type": "markdown",
      "id": "destroyed-yemen",
      "metadata": {
        "id": "destroyed-yemen"
      },
      "source": [
        "---\n",
        "\n",
        "#### `Custom Transformer to reduce categories`\n",
        "\n",
        "* Reduce categories for - Country, Device, Browser, OS\n",
        "---"
      ]
    },
    {
      "cell_type": "code",
      "execution_count": null,
      "id": "built-chain",
      "metadata": {
        "colab": {
          "background_save": true
        },
        "id": "built-chain"
      },
      "outputs": [],
      "source": [
        "# Creating custom Transformer to reduce the categories of multiple features\n",
        "class reduceCategories(Transformer):\n",
        "\n",
        "    def __init__(self, dataframe = None):\n",
        "        self.dataframe = dataframe\n",
        "\n",
        "    def _transform(self, dataframe):\n",
        "\n",
        "        # map the countries\n",
        "        dataframe = dataframe.withColumn(\"country_modified\", map_countries_udf(dataframe[\"Country\"]))\n",
        "\n",
        "         # map device\n",
        "        dataframe = dataframe.withColumn(\"device_modified\", map_device_udf(dataframe[\"Device\"]))\n",
        "\n",
        "        # map browser\n",
        "        dataframe = dataframe.withColumn(\"browser_modified\", map_browser_udf(dataframe[\"Browser\"]))\n",
        "\n",
        "        # map the os\n",
        "        dataframe = dataframe.withColumn(\"os_modified\", map_os_udf(dataframe[\"OS\"]))\n",
        "\n",
        "        return dataframe"
      ]
    },
    {
      "cell_type": "markdown",
      "id": "arctic-ending",
      "metadata": {
        "id": "arctic-ending"
      },
      "source": [
        "---\n",
        "\n",
        "#### `Custom Transformer to create features`\n",
        "\n",
        "* Total clicks per Campaign ID\n",
        "* Total clicks per Publisher ID\n",
        "---"
      ]
    },
    {
      "cell_type": "code",
      "execution_count": null,
      "id": "equipped-michigan",
      "metadata": {
        "colab": {
          "background_save": true
        },
        "id": "equipped-michigan"
      },
      "outputs": [],
      "source": [
        "# Creating two new features: total clicks per campaign Id, total clicks per publisher Id\n",
        "class frequencyEncoding(Transformer):\n",
        "\n",
        "    def __init__(self, dataframe = None):\n",
        "        self.dataframe = dataframe\n",
        "\n",
        "    def _transform(self, dataframe):\n",
        "\n",
        "        # join total clicks per advertiser Campaign Id\n",
        "        dataframe = dataframe.join(total_c_id, on=\"advertiserCampaignId\")\n",
        "\n",
        "        # join total clicks per publisher id dataframe\n",
        "        dataframe = dataframe.join(total_p_id, on=\"publisherId\")\n",
        "\n",
        "        # replace null values\n",
        "        dataframe = dataframe.fillna({\n",
        "            'total_p_id': 0.0,\n",
        "            'total_c_id' : 0.0,\n",
        "        })\n",
        "\n",
        "        return dataframe\n"
      ]
    },
    {
      "cell_type": "markdown",
      "id": "cheap-worry",
      "metadata": {
        "id": "cheap-worry"
      },
      "source": [
        "---\n",
        "\n",
        "\n",
        "#### **`Define the Stages`**\n",
        "\n",
        "---"
      ]
    },
    {
      "cell_type": "code",
      "execution_count": null,
      "id": "instrumental-camel",
      "metadata": {
        "colab": {
          "background_save": true
        },
        "id": "instrumental-camel"
      },
      "outputs": [],
      "source": [
        "# Stage 1 - replace null values\n",
        "stage_1 = nullValuesTransformer()\n",
        "\n",
        "# stage 2 - reduce categories\n",
        "stage_2 = reduceCategories()\n",
        "\n",
        "# Stage 3 - label encode Traffic_Type column\n",
        "stage_3 = StringIndexer(inputCol= \"TrafficType\", outputCol= \"traffic_le\")\n",
        "\n",
        "# Stage 4 - label encode Country column\n",
        "stage_4 = StringIndexer(inputCol= \"country_modified\", outputCol= \"country_le\")\n",
        "\n",
        "# Stage 5 - label encode Browser column\n",
        "stage_5 = StringIndexer(inputCol= \"browser_modified\", outputCol= \"browser_le\")\n",
        "\n",
        "# Stage 6 - label encode OS column\n",
        "stage_6 = StringIndexer(inputCol= \"os_modified\", outputCol= \"os_le\")\n",
        "\n",
        " # Stage 7 - One Hot Encode columns\n",
        "stage_7 = OneHotEncoderEstimator(inputCols= [\"country_le\",  \"browser_le\", \"os_le\", \"traffic_le\"],\n",
        "                        outputCols= [\"country_ohe\",  \"browser_ohe\", \"os_ohe\", \"traffic_ohe\"])\n",
        "\n",
        "# stage 8 - Create new features for total clicks per campaign id and per pulisher id\n",
        "stage_8 = frequencyEncoding()\n",
        "\n",
        "# Stage 9 - Create vector from the columns\n",
        "stage_9 = VectorAssembler(inputCols= [\"Fraud\",\n",
        "                                      \"traffic_ohe\",\n",
        "                                      \"country_ohe\",\n",
        "                                      \"device_modified\",\n",
        "                                      \"browser_ohe\",\n",
        "                                      \"os_ohe\",\n",
        "                                      'total_p_id',\n",
        "                                      'total_c_id',],\n",
        "\n",
        "                         outputCol=  \"feature_vector\")\n",
        "\n",
        "# Stage 10 - Train ML model\n",
        "stage_10 = classification.LogisticRegression(featuresCol= \"feature_vector\", labelCol= \"ConversionStatus\")"
      ]
    },
    {
      "cell_type": "markdown",
      "id": "postal-papua",
      "metadata": {
        "id": "postal-papua"
      },
      "source": [
        "---\n",
        "\n",
        "#### **`Define the Pipeline`**\n",
        "\n",
        "----"
      ]
    },
    {
      "cell_type": "code",
      "execution_count": null,
      "id": "functional-justice",
      "metadata": {
        "colab": {
          "background_save": true
        },
        "id": "functional-justice"
      },
      "outputs": [],
      "source": [
        "# Define pipeline\n",
        "pipeline = Pipeline(stages= [stage_1,\n",
        "                             stage_2,\n",
        "                             stage_3,\n",
        "                             stage_4,\n",
        "                             stage_5,\n",
        "                             stage_6,\n",
        "                             stage_7,\n",
        "                             stage_8,\n",
        "                             stage_9,\n",
        "                             stage_10])"
      ]
    },
    {
      "cell_type": "markdown",
      "id": "external-winter",
      "metadata": {
        "id": "external-winter"
      },
      "source": [
        "---\n",
        "\n",
        "### `FIT AND TRANSFORM THE PIPELINE`\n",
        "\n",
        "---"
      ]
    },
    {
      "cell_type": "code",
      "execution_count": null,
      "id": "under-assessment",
      "metadata": {
        "colab": {
          "background_save": true
        },
        "id": "under-assessment"
      },
      "outputs": [],
      "source": [
        "# fit the pipeline with the training data\n",
        "pipeline_model = pipeline.fit(train_data_pipeline)\n",
        "\n",
        "# transform data\n",
        "final_data = pipeline_model.transform(train_data_pipeline)"
      ]
    },
    {
      "cell_type": "code",
      "execution_count": null,
      "id": "spiritual-stevens",
      "metadata": {
        "colab": {
          "background_save": true
        },
        "id": "spiritual-stevens",
        "scrolled": true
      },
      "outputs": [],
      "source": [
        "final_data.select(\"ID\", \"ConversionStatus\", \"rawPrediction\", \"probability\", \"prediction\").show(10)"
      ]
    },
    {
      "cell_type": "markdown",
      "id": "original-attribute",
      "metadata": {
        "id": "original-attribute"
      },
      "source": [
        "---\n",
        "\n",
        "#### `TRANSFORM THE VALIDATION DATA`\n",
        "\n",
        "---"
      ]
    },
    {
      "cell_type": "code",
      "execution_count": null,
      "id": "temporal-summit",
      "metadata": {
        "colab": {
          "background_save": true
        },
        "id": "temporal-summit"
      },
      "outputs": [],
      "source": [
        "final_valid_data = pipeline_model.transform(valid_data_pipeline)"
      ]
    },
    {
      "cell_type": "code",
      "execution_count": null,
      "id": "african-singles",
      "metadata": {
        "colab": {
          "background_save": true
        },
        "id": "african-singles"
      },
      "outputs": [],
      "source": [
        "final_valid_data.columns"
      ]
    },
    {
      "cell_type": "code",
      "execution_count": null,
      "id": "injured-armor",
      "metadata": {
        "colab": {
          "background_save": true
        },
        "id": "injured-armor"
      },
      "outputs": [],
      "source": [
        "final_valid_data.select(\"ID\", \"ConversionStatus\", \"rawPrediction\", \"probability\", \"prediction\").show(10)"
      ]
    },
    {
      "cell_type": "markdown",
      "id": "nasty-puzzle",
      "metadata": {
        "id": "nasty-puzzle"
      },
      "source": [
        "---\n",
        "\n",
        "#### `TRANSFORM THE TEST DATA`\n",
        "\n",
        "---"
      ]
    },
    {
      "cell_type": "code",
      "execution_count": null,
      "id": "rapid-soldier",
      "metadata": {
        "colab": {
          "background_save": true
        },
        "id": "rapid-soldier"
      },
      "outputs": [],
      "source": [
        "final_test_data = pipeline_model.transform(test_data_pipeline)"
      ]
    },
    {
      "cell_type": "code",
      "execution_count": null,
      "id": "peaceful-abuse",
      "metadata": {
        "colab": {
          "background_save": true
        },
        "id": "peaceful-abuse"
      },
      "outputs": [],
      "source": [
        "final_test_data.select(\"ID\", \"ConversionStatus\", \"rawPrediction\", \"probability\", \"prediction\").show(10)"
      ]
    },
    {
      "cell_type": "code",
      "execution_count": null,
      "id": "extensive-drama",
      "metadata": {
        "id": "extensive-drama"
      },
      "outputs": [],
      "source": []
    },
    {
      "cell_type": "code",
      "execution_count": null,
      "id": "statutory-representation",
      "metadata": {
        "id": "statutory-representation"
      },
      "outputs": [],
      "source": []
    },
    {
      "cell_type": "code",
      "execution_count": null,
      "id": "standing-hostel",
      "metadata": {
        "id": "standing-hostel"
      },
      "outputs": [],
      "source": []
    }
  ],
  "metadata": {
    "colab": {
      "provenance": []
    },
    "kernelspec": {
      "display_name": "Pyspark 2",
      "language": "python",
      "name": "pyspark2"
    },
    "language_info": {
      "codemirror_mode": {
        "name": "ipython",
        "version": 3
      },
      "file_extension": ".py",
      "mimetype": "text/x-python",
      "name": "python",
      "nbconvert_exporter": "python",
      "pygments_lexer": "ipython3",
      "version": "3.6.12"
    }
  },
  "nbformat": 4,
  "nbformat_minor": 5
}